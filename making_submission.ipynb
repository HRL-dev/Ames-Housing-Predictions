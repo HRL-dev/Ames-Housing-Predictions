{
 "cells": [
  {
   "cell_type": "code",
   "execution_count": 153,
   "metadata": {},
   "outputs": [],
   "source": [
    "# Importing\n",
    "\n",
    "import pandas as pd\n",
    "import numpy as np\n",
    "import matplotlib.pyplot as plt\n",
    "import seaborn as sns\n",
    "\n",
    "from sklearn.linear_model import LinearRegression\n",
    "from sklearn import metrics\n",
    "from sklearn.model_selection import train_test_split, cross_val_score"
   ]
  },
  {
   "cell_type": "code",
   "execution_count": 154,
   "metadata": {},
   "outputs": [],
   "source": [
    "# Reading in data\n",
    "ames_houses = pd.read_csv('./datasets/train.csv')\n",
    "\n",
    "ames_house = pd.read_csv('./datasets/test.csv')"
   ]
  },
  {
   "cell_type": "code",
   "execution_count": 155,
   "metadata": {},
   "outputs": [],
   "source": [
    "features = ['MS SubClass',\n",
    "            'Lot Area',\n",
    "            'Lot Config',\n",
    "            'Overall Qual',\n",
    "            'Overall Cond',\n",
    "            'Exter Qual',\n",
    "            'Exter Cond', \n",
    "            'Central Air',\n",
    "            'Gr Liv Area',\n",
    "            'Full Bath',\n",
    "            'Functional',\n",
    "            'Mo Sold',\n",
    "            'Yr Sold',\n",
    "           'Fireplaces',\n",
    "           'Neighborhood',\n",
    "           'Garage Area']\n",
    "\n",
    "features_test = ['MS SubClass',\n",
    "            'Lot Area',\n",
    "            'Lot Config',\n",
    "            'Overall Qual',\n",
    "            'Overall Cond',\n",
    "            'Exter Qual',\n",
    "            'Exter Cond', \n",
    "            'Central Air',\n",
    "            'Gr Liv Area',\n",
    "            'Full Bath',\n",
    "            'Functional',\n",
    "            'Mo Sold',\n",
    "            'Yr Sold',\n",
    "           'Fireplaces',\n",
    "           'Neighborhood',\n",
    "           'Garage Area']\n",
    "\n",
    "ames_train = ames_houses[features].copy()\n",
    "\n",
    "ames_test = ames_house[features_test].copy()"
   ]
  },
  {
   "cell_type": "code",
   "execution_count": 156,
   "metadata": {},
   "outputs": [],
   "source": [
    "ames_train['Garage Area'] = ames_train['Garage Area'].fillna(0)\n",
    "\n",
    "ames_test['Garage Area'] = ames_test['Garage Area'].fillna(0)"
   ]
  },
  {
   "cell_type": "code",
   "execution_count": 157,
   "metadata": {},
   "outputs": [],
   "source": [
    "X_train = pd.get_dummies(data=ames_train, columns=['Lot Config', 'Exter Qual',\n",
    "                                                  'Exter Cond', 'Central Air',\n",
    "                                                  'Functional', 'Neighborhood'], drop_first=True)\n",
    "X_test = pd.get_dummies(data=ames_test, columns=['Lot Config', 'Exter Qual',\n",
    "                                                  'Exter Cond', 'Central Air',\n",
    "                                                  'Functional', 'Neighborhood'], drop_first=True)"
   ]
  },
  {
   "cell_type": "code",
   "execution_count": 177,
   "metadata": {},
   "outputs": [
    {
     "data": {
      "text/plain": [
       "(2051, 52)"
      ]
     },
     "execution_count": 177,
     "metadata": {},
     "output_type": "execute_result"
    }
   ],
   "source": [
    "X_train.shape"
   ]
  },
  {
   "cell_type": "code",
   "execution_count": 178,
   "metadata": {},
   "outputs": [
    {
     "data": {
      "text/plain": [
       "(878, 52)"
      ]
     },
     "execution_count": 178,
     "metadata": {},
     "output_type": "execute_result"
    }
   ],
   "source": [
    "X_test.shape"
   ]
  },
  {
   "cell_type": "code",
   "execution_count": 175,
   "metadata": {},
   "outputs": [],
   "source": [
    "for column in X_train.columns:\n",
    "    if column not in X_test.columns:\n",
    "        print(column)"
   ]
  },
  {
   "cell_type": "code",
   "execution_count": 176,
   "metadata": {},
   "outputs": [],
   "source": [
    "for column in X_test.columns:\n",
    "    if column not in X_train.columns:\n",
    "        print(column)"
   ]
  },
  {
   "cell_type": "code",
   "execution_count": 167,
   "metadata": {},
   "outputs": [],
   "source": [
    "# For submission 2, dropped columns from X_train that were not in X_test\n",
    "\n",
    "X_train = X_train.drop(columns=['Functional_Sal', 'Functional_Sev', \n",
    "             'Neighborhood_GrnHill', 'Neighborhood_Landmrk'])"
   ]
  },
  {
   "cell_type": "code",
   "execution_count": 103,
   "metadata": {},
   "outputs": [],
   "source": [
    "# The push-through that I did for my first submission:\n",
    "\n",
    "#X_train = ames_train._get_numeric_data()\n",
    "\n",
    "#X_test = ames_test._get_numeric_data()"
   ]
  },
  {
   "cell_type": "code",
   "execution_count": 158,
   "metadata": {},
   "outputs": [],
   "source": [
    "y = ames_houses['SalePrice']"
   ]
  },
  {
   "cell_type": "code",
   "execution_count": 168,
   "metadata": {},
   "outputs": [],
   "source": [
    "X_train_1, X_test_1, y_train, y_test = train_test_split(X_train, y, random_state = 142)"
   ]
  },
  {
   "cell_type": "code",
   "execution_count": 169,
   "metadata": {},
   "outputs": [
    {
     "data": {
      "text/plain": [
       "LinearRegression()"
      ]
     },
     "execution_count": 169,
     "metadata": {},
     "output_type": "execute_result"
    }
   ],
   "source": [
    "lr_1 = LinearRegression()\n",
    "lr_1.fit(X_train_1, y_train)"
   ]
  },
  {
   "cell_type": "code",
   "execution_count": 170,
   "metadata": {},
   "outputs": [
    {
     "data": {
      "text/plain": [
       "0.8204046467990487"
      ]
     },
     "execution_count": 170,
     "metadata": {},
     "output_type": "execute_result"
    }
   ],
   "source": [
    "cross_val_score(lr_1, X_train_1, y_train).mean()"
   ]
  },
  {
   "cell_type": "code",
   "execution_count": 171,
   "metadata": {},
   "outputs": [
    {
     "data": {
      "text/plain": [
       "0.841518282320641"
      ]
     },
     "execution_count": 171,
     "metadata": {},
     "output_type": "execute_result"
    }
   ],
   "source": [
    "lr_1.score(X_train_1, y_train)"
   ]
  },
  {
   "cell_type": "code",
   "execution_count": 172,
   "metadata": {},
   "outputs": [
    {
     "data": {
      "text/plain": [
       "0.8738350323484241"
      ]
     },
     "execution_count": 172,
     "metadata": {},
     "output_type": "execute_result"
    }
   ],
   "source": [
    "lr_1.score(X_test_1, y_test)"
   ]
  },
  {
   "cell_type": "code",
   "execution_count": 179,
   "metadata": {},
   "outputs": [],
   "source": [
    "y_train_preds = lr_1.predict(X_train)"
   ]
  },
  {
   "cell_type": "code",
   "execution_count": 180,
   "metadata": {},
   "outputs": [],
   "source": [
    "y_preds_2 = lr_1.predict(X_test)"
   ]
  },
  {
   "cell_type": "code",
   "execution_count": 181,
   "metadata": {},
   "outputs": [],
   "source": [
    "ames_test['SalePrice'] = y_preds_2"
   ]
  },
  {
   "cell_type": "code",
   "execution_count": 182,
   "metadata": {},
   "outputs": [
    {
     "data": {
      "text/plain": [
       "0      142115.952177\n",
       "1      161445.827548\n",
       "2      201552.538341\n",
       "3      120772.041911\n",
       "4      176427.376861\n",
       "           ...      \n",
       "873    189054.468614\n",
       "874    213298.116766\n",
       "875    139877.778768\n",
       "876    106330.072618\n",
       "877    138388.247116\n",
       "Name: SalePrice, Length: 878, dtype: float64"
      ]
     },
     "execution_count": 182,
     "metadata": {},
     "output_type": "execute_result"
    }
   ],
   "source": [
    "ames_test['SalePrice']"
   ]
  },
  {
   "cell_type": "code",
   "execution_count": 183,
   "metadata": {},
   "outputs": [],
   "source": [
    "ames_test['ID'] = ames_house['Id']"
   ]
  },
  {
   "cell_type": "code",
   "execution_count": 145,
   "metadata": {},
   "outputs": [
    {
     "data": {
      "text/plain": [
       "MS SubClass     0\n",
       "Lot Area        0\n",
       "Lot Config      0\n",
       "Overall Qual    0\n",
       "Overall Cond    0\n",
       "Exter Qual      0\n",
       "Exter Cond      0\n",
       "Central Air     0\n",
       "Gr Liv Area     0\n",
       "Full Bath       0\n",
       "Functional      0\n",
       "Mo Sold         0\n",
       "Yr Sold         0\n",
       "Fireplaces      0\n",
       "Neighborhood    0\n",
       "Garage Area     0\n",
       "SalePrice       0\n",
       "ID              0\n",
       "dtype: int64"
      ]
     },
     "execution_count": 145,
     "metadata": {},
     "output_type": "execute_result"
    }
   ],
   "source": [
    "ames_test.isnull().sum()"
   ]
  },
  {
   "cell_type": "code",
   "execution_count": 186,
   "metadata": {},
   "outputs": [
    {
     "data": {
      "text/plain": [
       "37376.31193017699"
      ]
     },
     "execution_count": 186,
     "metadata": {},
     "output_type": "execute_result"
    }
   ],
   "source": [
    "RMSE = np.sqrt(metrics.mean_squared_error(y, y_preds_1))\n",
    "\n",
    "RMSE"
   ]
  },
  {
   "cell_type": "code",
   "execution_count": 187,
   "metadata": {},
   "outputs": [],
   "source": [
    "submission_2 = ames_test[['ID']].copy()\n",
    "submission_2['SalePrice'] = ames_test[['SalePrice']].copy()"
   ]
  },
  {
   "cell_type": "code",
   "execution_count": 188,
   "metadata": {},
   "outputs": [
    {
     "data": {
      "text/html": [
       "<div>\n",
       "<style scoped>\n",
       "    .dataframe tbody tr th:only-of-type {\n",
       "        vertical-align: middle;\n",
       "    }\n",
       "\n",
       "    .dataframe tbody tr th {\n",
       "        vertical-align: top;\n",
       "    }\n",
       "\n",
       "    .dataframe thead th {\n",
       "        text-align: right;\n",
       "    }\n",
       "</style>\n",
       "<table border=\"1\" class=\"dataframe\">\n",
       "  <thead>\n",
       "    <tr style=\"text-align: right;\">\n",
       "      <th></th>\n",
       "      <th>ID</th>\n",
       "      <th>SalePrice</th>\n",
       "    </tr>\n",
       "  </thead>\n",
       "  <tbody>\n",
       "    <tr>\n",
       "      <th>0</th>\n",
       "      <td>2658</td>\n",
       "      <td>142115.952177</td>\n",
       "    </tr>\n",
       "    <tr>\n",
       "      <th>1</th>\n",
       "      <td>2718</td>\n",
       "      <td>161445.827548</td>\n",
       "    </tr>\n",
       "    <tr>\n",
       "      <th>2</th>\n",
       "      <td>2414</td>\n",
       "      <td>201552.538341</td>\n",
       "    </tr>\n",
       "    <tr>\n",
       "      <th>3</th>\n",
       "      <td>1989</td>\n",
       "      <td>120772.041911</td>\n",
       "    </tr>\n",
       "    <tr>\n",
       "      <th>4</th>\n",
       "      <td>625</td>\n",
       "      <td>176427.376861</td>\n",
       "    </tr>\n",
       "  </tbody>\n",
       "</table>\n",
       "</div>"
      ],
      "text/plain": [
       "     ID      SalePrice\n",
       "0  2658  142115.952177\n",
       "1  2718  161445.827548\n",
       "2  2414  201552.538341\n",
       "3  1989  120772.041911\n",
       "4   625  176427.376861"
      ]
     },
     "execution_count": 188,
     "metadata": {},
     "output_type": "execute_result"
    }
   ],
   "source": [
    "submission_2.head()"
   ]
  },
  {
   "cell_type": "code",
   "execution_count": 189,
   "metadata": {},
   "outputs": [],
   "source": [
    "submission_2.to_csv('./datasets/submission_2.csv', index=False)"
   ]
  },
  {
   "cell_type": "code",
   "execution_count": null,
   "metadata": {},
   "outputs": [],
   "source": []
  }
 ],
 "metadata": {
  "kernelspec": {
   "display_name": "Python 3",
   "language": "python",
   "name": "python3"
  },
  "language_info": {
   "codemirror_mode": {
    "name": "ipython",
    "version": 3
   },
   "file_extension": ".py",
   "mimetype": "text/x-python",
   "name": "python",
   "nbconvert_exporter": "python",
   "pygments_lexer": "ipython3",
   "version": "3.8.3"
  }
 },
 "nbformat": 4,
 "nbformat_minor": 4
}
