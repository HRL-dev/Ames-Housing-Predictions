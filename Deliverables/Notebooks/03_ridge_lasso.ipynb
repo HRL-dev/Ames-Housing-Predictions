{
 "cells": [
  {
   "cell_type": "code",
   "execution_count": 3,
   "metadata": {},
   "outputs": [],
   "source": [
    "import pandas as pd\n",
    "import numpy as np\n",
    "import matplotlib.pyplot as plt\n",
    "import seaborn as sns\n",
    "\n",
    "from sklearn.linear_model import LinearRegression\n",
    "from sklearn import metrics\n",
    "from sklearn.model_selection import train_test_split, cross_val_score\n",
    "from sklearn.preprocessing import StandardScaler"
   ]
  },
  {
   "cell_type": "code",
   "execution_count": 4,
   "metadata": {},
   "outputs": [],
   "source": [
    "# Reading in data\n",
    "ames_houses = pd.read_csv('../datasets/train.csv')\n",
    "\n",
    "ames_house = pd.read_csv('../datasets/test.csv')"
   ]
  },
  {
   "cell_type": "code",
   "execution_count": 5,
   "metadata": {},
   "outputs": [],
   "source": [
    "# Selecting features\n",
    "\n",
    "features = ['Garage Cars',\n",
    "            'Total Bsmt SF',\n",
    "            '1st Flr SF',\n",
    "            'Lot Area',\n",
    "            'Overall Qual',\n",
    "            'Gr Liv Area',\n",
    "            'Full Bath',\n",
    "           'Fireplaces',\n",
    "            'Year Built',\n",
    "            'Year Remod/Add',\n",
    "            'Mas Vnr Area',\n",
    "            'TotRms AbvGrd',\n",
    "           'Garage Area']\n",
    "\n",
    "ames_train = ames_houses[features].copy()\n",
    "\n",
    "ames_test = ames_house[features].copy()"
   ]
  },
  {
   "cell_type": "code",
   "execution_count": 6,
   "metadata": {},
   "outputs": [],
   "source": [
    "# dropping null values\n",
    "\n",
    "ames_train['Garage Area'] = ames_train['Garage Area'].fillna(0)\n",
    "\n",
    "ames_test['Garage Area'] = ames_test['Garage Area'].fillna(0)"
   ]
  },
  {
   "cell_type": "code",
   "execution_count": 7,
   "metadata": {},
   "outputs": [],
   "source": [
    "ames_train['Garage Cars'] = ames_train['Garage Cars'].fillna(0)\n",
    "\n",
    "ames_test['Garage Cars'] = ames_test['Garage Cars'].fillna(0)"
   ]
  },
  {
   "cell_type": "code",
   "execution_count": 8,
   "metadata": {},
   "outputs": [],
   "source": [
    "ames_train['Total Bsmt SF'] = ames_train['Total Bsmt SF'].fillna(0)\n",
    "\n",
    "ames_test['Total Bsmt SF'] = ames_test['Total Bsmt SF'].fillna(0)"
   ]
  },
  {
   "cell_type": "code",
   "execution_count": 9,
   "metadata": {},
   "outputs": [],
   "source": [
    "ames_train['Mas Vnr Area'] = ames_train['Mas Vnr Area'].fillna(0)\n",
    "\n",
    "ames_test['Mas Vnr Area'] = ames_test['Mas Vnr Area'].fillna(0)"
   ]
  },
  {
   "cell_type": "code",
   "execution_count": 10,
   "metadata": {},
   "outputs": [],
   "source": [
    "# Feature engineering:\n",
    "\n",
    "ames_train['garage_space'] = ames_train['Garage Cars'] * ames_train['Garage Area']\n",
    "\n",
    "ames_test['garage_space'] = ames_test['Garage Cars'] * ames_test['Garage Area']"
   ]
  },
  {
   "cell_type": "code",
   "execution_count": 11,
   "metadata": {},
   "outputs": [],
   "source": [
    "# More feature engineering:\n",
    "\n",
    "ames_train['lower_sq_ftg'] = ames_train['Total Bsmt SF'] * ames_train['1st Flr SF']\n",
    "\n",
    "ames_test['lower_sq_ftg'] = ames_test['Total Bsmt SF'] * ames_test['1st Flr SF']"
   ]
  },
  {
   "cell_type": "code",
   "execution_count": 12,
   "metadata": {},
   "outputs": [],
   "source": [
    "# More feature engineering:\n",
    "\n",
    "ames_train['tot_sq_ftg'] = ames_train['Gr Liv Area'] * ames_train['Total Bsmt SF']\n",
    "\n",
    "ames_test['tot_sq_ftg'] = ames_test['Gr Liv Area'] * ames_test['Total Bsmt SF']"
   ]
  },
  {
   "cell_type": "code",
   "execution_count": 13,
   "metadata": {},
   "outputs": [],
   "source": [
    "ames_train['overall_living'] = ames_train['Gr Liv Area'] * ames_train['Overall Qual']\n",
    "\n",
    "ames_test['overall_living'] = ames_test['Gr Liv Area'] * ames_test['Overall Qual']"
   ]
  },
  {
   "cell_type": "code",
   "execution_count": 14,
   "metadata": {},
   "outputs": [],
   "source": [
    "# Defining y:\n",
    "\n",
    "y = ames_houses['SalePrice']"
   ]
  },
  {
   "cell_type": "code",
   "execution_count": 15,
   "metadata": {},
   "outputs": [],
   "source": [
    "# Train-test splitting to start Ridge & LASSO process:\n",
    "\n",
    "X_train, X_test, y_train, y_test = train_test_split(ames_train, y, random_state = 142)"
   ]
  },
  {
   "cell_type": "code",
   "execution_count": 16,
   "metadata": {},
   "outputs": [],
   "source": [
    "# Standardizing numeric data:\n",
    "\n",
    "sc = StandardScaler()\n",
    "Z_train = sc.fit_transform(X_train)\n",
    "Z_test = sc.transform(X_test)"
   ]
  },
  {
   "cell_type": "code",
   "execution_count": 17,
   "metadata": {},
   "outputs": [
    {
     "data": {
      "text/plain": [
       "array([[-0.99843111,  0.2095    ,  0.99497849, ...,  0.3103756 ,\n",
       "         0.06912072, -0.35325294],\n",
       "       [ 0.29633031, -0.60245178, -0.90514407, ..., -0.5514676 ,\n",
       "        -0.29073607,  0.01739085],\n",
       "       [ 0.29633031, -0.67925803, -1.03730483, ..., -0.60106059,\n",
       "        -0.38885265, -0.12681461],\n",
       "       ...,\n",
       "       [ 0.29633031, -1.46926517, -0.71313693, ..., -0.76153986,\n",
       "        -0.90657115, -1.20736245],\n",
       "       [ 1.59109173,  0.74275481,  1.03487608, ...,  0.60563686,\n",
       "         0.337877  ,  0.28871959],\n",
       "       [ 0.29633031,  0.69886553,  0.9825105 , ...,  0.56123895,\n",
       "         0.29746459,  0.25952097]])"
      ]
     },
     "execution_count": 17,
     "metadata": {},
     "output_type": "execute_result"
    }
   ],
   "source": [
    "Z_train"
   ]
  },
  {
   "cell_type": "code",
   "execution_count": 18,
   "metadata": {},
   "outputs": [],
   "source": [
    "# importing Ridge\n",
    "\n",
    "from sklearn.linear_model import Ridge"
   ]
  },
  {
   "cell_type": "code",
   "execution_count": 19,
   "metadata": {},
   "outputs": [
    {
     "data": {
      "text/plain": [
       "Ridge(alpha=100)"
      ]
     },
     "execution_count": 19,
     "metadata": {},
     "output_type": "execute_result"
    }
   ],
   "source": [
    "# Instantiating Ridge\n",
    "\n",
    "ridge_model = Ridge(alpha = 100)\n",
    "# Fitting:\n",
    "\n",
    "ridge_model.fit(Z_train, y_train)"
   ]
  },
  {
   "cell_type": "code",
   "execution_count": 20,
   "metadata": {},
   "outputs": [
    {
     "name": "stdout",
     "output_type": "stream",
     "text": [
      "Training score: 0.8346097153123837\n",
      "Test score: 0.8652174599394566\n"
     ]
    }
   ],
   "source": [
    "# Printing Ridge R2 scores:\n",
    "\n",
    "print('Training score:', ridge_model.score(Z_train, y_train))\n",
    "print('Test score:', ridge_model.score(Z_test, y_test)) "
   ]
  },
  {
   "cell_type": "code",
   "execution_count": 21,
   "metadata": {},
   "outputs": [],
   "source": [
    "# Importing LASSO:\n",
    "\n",
    "from sklearn.linear_model import LassoCV"
   ]
  },
  {
   "cell_type": "code",
   "execution_count": 22,
   "metadata": {},
   "outputs": [],
   "source": [
    "# List of LASSO alphas to check through:\n",
    "\n",
    "l_alphas = np.logspace(-3, 0, 100)"
   ]
  },
  {
   "cell_type": "code",
   "execution_count": 23,
   "metadata": {},
   "outputs": [],
   "source": [
    "# Cross-validating over the list of alphas\n",
    "\n",
    "lasso_cv = LassoCV(alphas = l_alphas, cv = 5, max_iter = 50000)"
   ]
  },
  {
   "cell_type": "code",
   "execution_count": 24,
   "metadata": {},
   "outputs": [],
   "source": [
    "# Fitting the LASSO model:\n",
    "\n",
    "lasso_cv.fit(Z_train, y_train);"
   ]
  },
  {
   "cell_type": "code",
   "execution_count": 25,
   "metadata": {},
   "outputs": [
    {
     "data": {
      "text/plain": [
       "0.001"
      ]
     },
     "execution_count": 25,
     "metadata": {},
     "output_type": "execute_result"
    }
   ],
   "source": [
    "# Finding optimal LASSO alpha:\n",
    "\n",
    "lasso_cv.alpha_"
   ]
  },
  {
   "cell_type": "code",
   "execution_count": 26,
   "metadata": {},
   "outputs": [
    {
     "name": "stdout",
     "output_type": "stream",
     "text": [
      "Training score:  0.8605219502281526\n",
      "Test score:  0.8777863421930043\n"
     ]
    }
   ],
   "source": [
    "#Printing LASSO R2 scores:\n",
    "\n",
    "print('Training score: ', lasso_cv.score(Z_train, y_train))\n",
    "print('Test score: ', lasso_cv.score(Z_test, y_test))"
   ]
  },
  {
   "cell_type": "code",
   "execution_count": null,
   "metadata": {},
   "outputs": [],
   "source": []
  }
 ],
 "metadata": {
  "kernelspec": {
   "display_name": "Python 3",
   "language": "python",
   "name": "python3"
  },
  "language_info": {
   "codemirror_mode": {
    "name": "ipython",
    "version": 3
   },
   "file_extension": ".py",
   "mimetype": "text/x-python",
   "name": "python",
   "nbconvert_exporter": "python",
   "pygments_lexer": "ipython3",
   "version": "3.8.3"
  }
 },
 "nbformat": 4,
 "nbformat_minor": 4
}
