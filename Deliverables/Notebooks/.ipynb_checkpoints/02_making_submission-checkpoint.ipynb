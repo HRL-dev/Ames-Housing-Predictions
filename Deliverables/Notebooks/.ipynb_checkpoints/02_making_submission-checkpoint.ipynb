{
 "cells": [
  {
   "cell_type": "code",
   "execution_count": 3,
   "metadata": {},
   "outputs": [],
   "source": [
    "# Importing\n",
    "\n",
    "import pandas as pd\n",
    "import numpy as np\n",
    "import matplotlib.pyplot as plt\n",
    "import seaborn as sns\n",
    "\n",
    "from sklearn.linear_model import LinearRegression\n",
    "from sklearn import metrics\n",
    "from sklearn.model_selection import train_test_split, cross_val_score\n",
    "from sklearn.preprocessing import StandardScaler"
   ]
  },
  {
   "cell_type": "code",
   "execution_count": 4,
   "metadata": {},
   "outputs": [],
   "source": [
    "# Reading in data\n",
    "ames_houses = pd.read_csv('../datasets/train.csv')\n",
    "\n",
    "ames_house = pd.read_csv('../datasets/test.csv')"
   ]
  },
  {
   "cell_type": "code",
   "execution_count": 5,
   "metadata": {},
   "outputs": [],
   "source": [
    "ames_houses = ames_houses[ames_houses['Gr Liv Area'] < 5000]\n",
    "\n",
    "ames_house = ames_house[ames_house['Gr Liv Area'] < 5000]"
   ]
  },
  {
   "cell_type": "code",
   "execution_count": 6,
   "metadata": {},
   "outputs": [],
   "source": [
    "features = ['Garage Cars',\n",
    "            'Total Bsmt SF',\n",
    "            '1st Flr SF',\n",
    "            'Lot Area',\n",
    "            'Lot Config',\n",
    "            'Overall Qual',\n",
    "            'Exter Qual',\n",
    "            'Exter Cond', \n",
    "            'Central Air',\n",
    "            'Gr Liv Area',\n",
    "            'Full Bath',\n",
    "            'Functional',\n",
    "           'Fireplaces',\n",
    "           'Neighborhood',\n",
    "            'Year Built',\n",
    "            'Year Remod/Add',\n",
    "            'Mas Vnr Area',\n",
    "            'TotRms AbvGrd',\n",
    "           'Garage Area']\n",
    "\n",
    "ames_train = ames_houses[features].copy()\n",
    "\n",
    "ames_test = ames_house[features].copy()"
   ]
  },
  {
   "cell_type": "code",
   "execution_count": 7,
   "metadata": {},
   "outputs": [],
   "source": [
    "ames_train['Garage Area'] = ames_train['Garage Area'].fillna(0)\n",
    "\n",
    "ames_test['Garage Area'] = ames_test['Garage Area'].fillna(0)"
   ]
  },
  {
   "cell_type": "code",
   "execution_count": 8,
   "metadata": {},
   "outputs": [],
   "source": [
    "ames_train['Garage Cars'] = ames_train['Garage Cars'].fillna(0)\n",
    "\n",
    "ames_test['Garage Cars'] = ames_test['Garage Cars'].fillna(0)"
   ]
  },
  {
   "cell_type": "code",
   "execution_count": 9,
   "metadata": {},
   "outputs": [],
   "source": [
    "ames_train['Total Bsmt SF'] = ames_train['Total Bsmt SF'].fillna(0)\n",
    "\n",
    "ames_test['Total Bsmt SF'] = ames_test['Total Bsmt SF'].fillna(0)"
   ]
  },
  {
   "cell_type": "code",
   "execution_count": 10,
   "metadata": {},
   "outputs": [],
   "source": [
    "ames_train['Mas Vnr Area'] = ames_train['Mas Vnr Area'].fillna(0)\n",
    "\n",
    "ames_test['Mas Vnr Area'] = ames_test['Mas Vnr Area'].fillna(0)"
   ]
  },
  {
   "cell_type": "code",
   "execution_count": 11,
   "metadata": {},
   "outputs": [],
   "source": [
    "# Feature engineering:\n",
    "\n",
    "ames_train['garage_space'] = ames_train['Garage Cars'] * ames_train['Garage Area']\n",
    "\n",
    "ames_test['garage_space'] = ames_test['Garage Cars'] * ames_test['Garage Area']"
   ]
  },
  {
   "cell_type": "code",
   "execution_count": 12,
   "metadata": {},
   "outputs": [],
   "source": [
    "# More feature engineering:\n",
    "\n",
    "ames_train['lower_sq_ftg'] = ames_train['Total Bsmt SF'] * ames_train['1st Flr SF']\n",
    "\n",
    "ames_test['lower_sq_ftg'] = ames_test['Total Bsmt SF'] * ames_test['1st Flr SF']"
   ]
  },
  {
   "cell_type": "code",
   "execution_count": 13,
   "metadata": {},
   "outputs": [],
   "source": [
    "# More feature engineering:\n",
    "\n",
    "ames_train['tot_sq_ftg'] = ames_train['Gr Liv Area'] * ames_train['Total Bsmt SF']\n",
    "\n",
    "ames_test['tot_sq_ftg'] = ames_test['Gr Liv Area'] * ames_test['Total Bsmt SF']"
   ]
  },
  {
   "cell_type": "code",
   "execution_count": 14,
   "metadata": {},
   "outputs": [],
   "source": [
    "ames_train['overall_living'] = ames_train['Gr Liv Area'] * ames_train['Overall Qual']\n",
    "\n",
    "ames_test['overall_living'] = ames_test['Gr Liv Area'] * ames_test['Overall Qual']"
   ]
  },
  {
   "cell_type": "code",
   "execution_count": 15,
   "metadata": {},
   "outputs": [],
   "source": [
    "ames_train['years'] = ames_train['Year Built'] * ames_train['Year Remod/Add']\n",
    "\n",
    "ames_test['years'] = ames_test['Year Built'] * ames_test['Year Remod/Add']"
   ]
  },
  {
   "cell_type": "code",
   "execution_count": 16,
   "metadata": {},
   "outputs": [],
   "source": [
    "# Combining neighborhoods into umbrella columns:\n",
    "\n",
    "ames_train['Neighborhood'] = ames_train['Neighborhood'].map({'NAmes':'NAmes',\n",
    "                                                 'CollgCr':'CollgCr',\n",
    "                                                 'OldTown':'OldTown',\n",
    "                                                 'Edwards':'Edwards',\n",
    "                                                 'Somerst':'Somerst',\n",
    "                                                 'NridgHt':'NridgHt',\n",
    "                                                 'Gilbert':'Gilbert',\n",
    "                                                 'Sawyer':'Sawyer',\n",
    "                                                 'SawyerW':'SawyerW',\n",
    "                                                 'Mitchel':'Mitchel',\n",
    "                                                 'BrkSide':'BrkSide',\n",
    "                                                 'Crawfor':'Crawfor',\n",
    "                                                 'IDOTRR':'IDOTRR',\n",
    "                                                 'Timber':'Timber',\n",
    "                                                 'NoRidge':'NoRidge',\n",
    "                                                 'StoneBr':'StoneBr',\n",
    "                                                 'SWISU':'SWISU',\n",
    "                                                 'ClearCr':'ClearCr',\n",
    "                                                 'MeadowV':'MeadowV',\n",
    "                                                 'Blmngtn':'Blmngtn',\n",
    "                                                 'BrDale':'BrDale',\n",
    "                                                 'Veenker':'Veenker',\n",
    "                                                 'NPkVill':'NPkVill',\n",
    "                                                 'Blueste':'Crawfor',\n",
    "                                                 'Greens':'Somerst',\n",
    "                                                 'GrnHill':'Timber',\n",
    "                                                 'Landmrk':'Somerst',\n",
    "                                                 'NWAmes' : 'NWAmes'           \n",
    "                                                })\n",
    "\n",
    "ames_test['Neighborhood'] = ames_test['Neighborhood'].map({'NAmes':'NAmes',\n",
    "                                                 'CollgCr':'CollgCr',\n",
    "                                                 'OldTown':'OldTown',\n",
    "                                                 'Edwards':'Edwards',\n",
    "                                                 'Somerst':'Somerst',\n",
    "                                                 'NridgHt':'NridgHt',\n",
    "                                                 'Gilbert':'Gilbert',\n",
    "                                                 'Sawyer':'Sawyer',\n",
    "                                                 'SawyerW':'SawyerW',\n",
    "                                                 'Mitchel':'Mitchel',\n",
    "                                                 'BrkSide':'BrkSide',\n",
    "                                                 'Crawfor':'Crawfor',\n",
    "                                                 'IDOTRR':'IDOTRR',\n",
    "                                                 'Timber':'Timber',\n",
    "                                                 'NoRidge':'NoRidge',\n",
    "                                                 'StoneBr':'StoneBr',\n",
    "                                                 'SWISU':'SWISU',\n",
    "                                                 'ClearCr':'ClearCr',\n",
    "                                                 'MeadowV':'MeadowV',\n",
    "                                                 'Blmngtn':'Blmngtn',\n",
    "                                                 'BrDale':'BrDale',\n",
    "                                                 'Veenker':'Veenker',\n",
    "                                                 'NPkVill':'NPkVill',\n",
    "                                                 'Blueste':'Crawfor',\n",
    "                                                 'Greens':'Somerst',\n",
    "                                                 'GrnHill':'Timber',\n",
    "                                                 'Landmrk':'Somerst',\n",
    "                                                 'NWAmes' : 'NWAmes'           \n",
    "                                                })"
   ]
  },
  {
   "cell_type": "code",
   "execution_count": 17,
   "metadata": {},
   "outputs": [
    {
     "data": {
      "text/plain": [
       "Garage Cars       0\n",
       "Total Bsmt SF     0\n",
       "1st Flr SF        0\n",
       "Lot Area          0\n",
       "Lot Config        0\n",
       "Overall Qual      0\n",
       "Exter Qual        0\n",
       "Exter Cond        0\n",
       "Central Air       0\n",
       "Gr Liv Area       0\n",
       "Full Bath         0\n",
       "Functional        0\n",
       "Fireplaces        0\n",
       "Neighborhood      0\n",
       "Year Built        0\n",
       "Year Remod/Add    0\n",
       "Mas Vnr Area      0\n",
       "TotRms AbvGrd     0\n",
       "Garage Area       0\n",
       "garage_space      0\n",
       "lower_sq_ftg      0\n",
       "tot_sq_ftg        0\n",
       "overall_living    0\n",
       "years             0\n",
       "dtype: int64"
      ]
     },
     "execution_count": 17,
     "metadata": {},
     "output_type": "execute_result"
    }
   ],
   "source": [
    "ames_train.isnull().sum()"
   ]
  },
  {
   "cell_type": "code",
   "execution_count": 18,
   "metadata": {},
   "outputs": [
    {
     "data": {
      "text/plain": [
       "Garage Cars       0\n",
       "Total Bsmt SF     0\n",
       "1st Flr SF        0\n",
       "Lot Area          0\n",
       "Lot Config        0\n",
       "Overall Qual      0\n",
       "Exter Qual        0\n",
       "Exter Cond        0\n",
       "Central Air       0\n",
       "Gr Liv Area       0\n",
       "Full Bath         0\n",
       "Functional        0\n",
       "Fireplaces        0\n",
       "Neighborhood      0\n",
       "Year Built        0\n",
       "Year Remod/Add    0\n",
       "Mas Vnr Area      0\n",
       "TotRms AbvGrd     0\n",
       "Garage Area       0\n",
       "garage_space      0\n",
       "lower_sq_ftg      0\n",
       "tot_sq_ftg        0\n",
       "overall_living    0\n",
       "years             0\n",
       "dtype: int64"
      ]
     },
     "execution_count": 18,
     "metadata": {},
     "output_type": "execute_result"
    }
   ],
   "source": [
    "ames_test.isnull().sum()"
   ]
  },
  {
   "cell_type": "code",
   "execution_count": 19,
   "metadata": {},
   "outputs": [],
   "source": [
    "y = ames_houses['SalePrice']"
   ]
  },
  {
   "cell_type": "code",
   "execution_count": 20,
   "metadata": {},
   "outputs": [],
   "source": [
    "X_train = pd.get_dummies(data=ames_train, columns=['Lot Config', 'Exter Qual',\n",
    "                                                  'Exter Cond', 'Central Air',\n",
    "                                                  'Functional', 'Neighborhood'], drop_first=True)\n",
    "X_test = pd.get_dummies(data=ames_test, columns=['Lot Config', 'Exter Qual',\n",
    "                                                  'Exter Cond', 'Central Air',\n",
    "                                                  'Functional', 'Neighborhood'], drop_first=True)"
   ]
  },
  {
   "cell_type": "code",
   "execution_count": 21,
   "metadata": {},
   "outputs": [
    {
     "data": {
      "text/plain": [
       "(2049, 60)"
      ]
     },
     "execution_count": 21,
     "metadata": {},
     "output_type": "execute_result"
    }
   ],
   "source": [
    "X_train.shape"
   ]
  },
  {
   "cell_type": "code",
   "execution_count": 22,
   "metadata": {},
   "outputs": [
    {
     "data": {
      "text/plain": [
       "(878, 58)"
      ]
     },
     "execution_count": 22,
     "metadata": {},
     "output_type": "execute_result"
    }
   ],
   "source": [
    "X_test.shape"
   ]
  },
  {
   "cell_type": "code",
   "execution_count": 23,
   "metadata": {},
   "outputs": [
    {
     "name": "stdout",
     "output_type": "stream",
     "text": [
      "Functional_Sal\n",
      "Functional_Sev\n"
     ]
    }
   ],
   "source": [
    "for column in X_train.columns:\n",
    "    if column not in X_test.columns:\n",
    "        print(column)"
   ]
  },
  {
   "cell_type": "code",
   "execution_count": 24,
   "metadata": {},
   "outputs": [],
   "source": [
    "for column in X_test.columns:\n",
    "    if column not in X_train.columns:\n",
    "        print(column)"
   ]
  },
  {
   "cell_type": "code",
   "execution_count": 25,
   "metadata": {},
   "outputs": [],
   "source": [
    "# For submission 2, dropped columns from X_train that were not in X_test\n",
    "\n",
    "X_train = X_train.drop(columns=['Functional_Sal', 'Functional_Sev'])"
   ]
  },
  {
   "cell_type": "code",
   "execution_count": 26,
   "metadata": {},
   "outputs": [],
   "source": [
    "X_train_1, X_test_1, y_train, y_test = train_test_split(X_train, y, random_state = 142)"
   ]
  },
  {
   "cell_type": "code",
   "execution_count": 27,
   "metadata": {},
   "outputs": [
    {
     "data": {
      "text/plain": [
       "LinearRegression()"
      ]
     },
     "execution_count": 27,
     "metadata": {},
     "output_type": "execute_result"
    }
   ],
   "source": [
    "lr_1 = LinearRegression()\n",
    "lr_1.fit(X_train_1, y_train)"
   ]
  },
  {
   "cell_type": "code",
   "execution_count": 28,
   "metadata": {},
   "outputs": [
    {
     "data": {
      "text/plain": [
       "0.8936317135357102"
      ]
     },
     "execution_count": 28,
     "metadata": {},
     "output_type": "execute_result"
    }
   ],
   "source": [
    "cross_val_score(lr_1, X_train_1, y_train).mean()"
   ]
  },
  {
   "cell_type": "code",
   "execution_count": 29,
   "metadata": {},
   "outputs": [],
   "source": [
    "y_train_log = y_train.map(np.log)"
   ]
  },
  {
   "cell_type": "code",
   "execution_count": 30,
   "metadata": {},
   "outputs": [
    {
     "data": {
      "text/plain": [
       "0.9097767821056452"
      ]
     },
     "execution_count": 30,
     "metadata": {},
     "output_type": "execute_result"
    }
   ],
   "source": [
    "lr_1.score(X_train_1, y_train)"
   ]
  },
  {
   "cell_type": "code",
   "execution_count": 31,
   "metadata": {},
   "outputs": [
    {
     "data": {
      "text/plain": [
       "0.9045606626966943"
      ]
     },
     "execution_count": 31,
     "metadata": {},
     "output_type": "execute_result"
    }
   ],
   "source": [
    "lr_1.score(X_test_1, y_test)"
   ]
  },
  {
   "cell_type": "code",
   "execution_count": 32,
   "metadata": {},
   "outputs": [
    {
     "data": {
      "text/plain": [
       "LinearRegression()"
      ]
     },
     "execution_count": 32,
     "metadata": {},
     "output_type": "execute_result"
    }
   ],
   "source": [
    "lr_2 = LinearRegression()\n",
    "lr_2.fit(X_train_1, y_train_log)"
   ]
  },
  {
   "cell_type": "code",
   "execution_count": 33,
   "metadata": {},
   "outputs": [
    {
     "data": {
      "text/plain": [
       "0.8894967113222613"
      ]
     },
     "execution_count": 33,
     "metadata": {},
     "output_type": "execute_result"
    }
   ],
   "source": [
    "lr_2.score(X_train_1, y_train_log)"
   ]
  },
  {
   "cell_type": "code",
   "execution_count": 34,
   "metadata": {},
   "outputs": [
    {
     "data": {
      "text/plain": [
       "0.8747530172371685"
      ]
     },
     "execution_count": 34,
     "metadata": {},
     "output_type": "execute_result"
    }
   ],
   "source": [
    "cross_val_score(lr_2, X_train_1, y_train_log).mean()"
   ]
  },
  {
   "cell_type": "code",
   "execution_count": 35,
   "metadata": {},
   "outputs": [],
   "source": [
    "y_train_preds = lr_1.predict(X_train)"
   ]
  },
  {
   "cell_type": "code",
   "execution_count": 36,
   "metadata": {},
   "outputs": [],
   "source": [
    "y_preds_2 = lr_1.predict(X_test)"
   ]
  },
  {
   "cell_type": "code",
   "execution_count": 37,
   "metadata": {},
   "outputs": [],
   "source": [
    "y_preds_log = lr_2.predict(X_test)"
   ]
  },
  {
   "cell_type": "code",
   "execution_count": 38,
   "metadata": {},
   "outputs": [],
   "source": [
    "y_preds_log = np.exp(y_preds_log)"
   ]
  },
  {
   "cell_type": "code",
   "execution_count": 39,
   "metadata": {},
   "outputs": [],
   "source": [
    "ames_test['SalePrice'] = y_preds_log"
   ]
  },
  {
   "cell_type": "code",
   "execution_count": 40,
   "metadata": {},
   "outputs": [
    {
     "data": {
      "text/plain": [
       "0      107299.430505\n",
       "1      189606.493271\n",
       "2      191295.680250\n",
       "3      119912.127467\n",
       "4      175316.831142\n",
       "           ...      \n",
       "873    181816.166446\n",
       "874    211433.090848\n",
       "875    135398.534926\n",
       "876    111370.217794\n",
       "877    131589.768983\n",
       "Name: SalePrice, Length: 878, dtype: float64"
      ]
     },
     "execution_count": 40,
     "metadata": {},
     "output_type": "execute_result"
    }
   ],
   "source": [
    "ames_test['SalePrice']"
   ]
  },
  {
   "cell_type": "code",
   "execution_count": 41,
   "metadata": {},
   "outputs": [],
   "source": [
    "ames_test['ID'] = ames_house['Id']"
   ]
  },
  {
   "cell_type": "code",
   "execution_count": 42,
   "metadata": {},
   "outputs": [
    {
     "data": {
      "text/plain": [
       "23989.014118522497"
      ]
     },
     "execution_count": 42,
     "metadata": {},
     "output_type": "execute_result"
    }
   ],
   "source": [
    "RMSE = np.sqrt(metrics.mean_squared_error(y, y_train_preds))\n",
    "\n",
    "RMSE"
   ]
  },
  {
   "cell_type": "code",
   "execution_count": 43,
   "metadata": {},
   "outputs": [],
   "source": [
    "submission_9 = ames_test[['ID']].copy()\n",
    "submission_9['SalePrice'] = ames_test[['SalePrice']].copy()"
   ]
  },
  {
   "cell_type": "code",
   "execution_count": 45,
   "metadata": {},
   "outputs": [
    {
     "data": {
      "text/html": [
       "<div>\n",
       "<style scoped>\n",
       "    .dataframe tbody tr th:only-of-type {\n",
       "        vertical-align: middle;\n",
       "    }\n",
       "\n",
       "    .dataframe tbody tr th {\n",
       "        vertical-align: top;\n",
       "    }\n",
       "\n",
       "    .dataframe thead th {\n",
       "        text-align: right;\n",
       "    }\n",
       "</style>\n",
       "<table border=\"1\" class=\"dataframe\">\n",
       "  <thead>\n",
       "    <tr style=\"text-align: right;\">\n",
       "      <th></th>\n",
       "      <th>ID</th>\n",
       "      <th>SalePrice</th>\n",
       "    </tr>\n",
       "  </thead>\n",
       "  <tbody>\n",
       "    <tr>\n",
       "      <th>0</th>\n",
       "      <td>2658</td>\n",
       "      <td>107299.430505</td>\n",
       "    </tr>\n",
       "    <tr>\n",
       "      <th>1</th>\n",
       "      <td>2718</td>\n",
       "      <td>189606.493271</td>\n",
       "    </tr>\n",
       "    <tr>\n",
       "      <th>2</th>\n",
       "      <td>2414</td>\n",
       "      <td>191295.680250</td>\n",
       "    </tr>\n",
       "    <tr>\n",
       "      <th>3</th>\n",
       "      <td>1989</td>\n",
       "      <td>119912.127467</td>\n",
       "    </tr>\n",
       "    <tr>\n",
       "      <th>4</th>\n",
       "      <td>625</td>\n",
       "      <td>175316.831142</td>\n",
       "    </tr>\n",
       "  </tbody>\n",
       "</table>\n",
       "</div>"
      ],
      "text/plain": [
       "     ID      SalePrice\n",
       "0  2658  107299.430505\n",
       "1  2718  189606.493271\n",
       "2  2414  191295.680250\n",
       "3  1989  119912.127467\n",
       "4   625  175316.831142"
      ]
     },
     "execution_count": 45,
     "metadata": {},
     "output_type": "execute_result"
    }
   ],
   "source": [
    "submission_9.head()"
   ]
  },
  {
   "cell_type": "code",
   "execution_count": 47,
   "metadata": {},
   "outputs": [],
   "source": [
    "submission_9.to_csv('../datasets/submission_9.csv', index=False)"
   ]
  },
  {
   "cell_type": "code",
   "execution_count": null,
   "metadata": {},
   "outputs": [],
   "source": []
  }
 ],
 "metadata": {
  "kernelspec": {
   "display_name": "Python 3",
   "language": "python",
   "name": "python3"
  },
  "language_info": {
   "codemirror_mode": {
    "name": "ipython",
    "version": 3
   },
   "file_extension": ".py",
   "mimetype": "text/x-python",
   "name": "python",
   "nbconvert_exporter": "python",
   "pygments_lexer": "ipython3",
   "version": "3.8.3"
  }
 },
 "nbformat": 4,
 "nbformat_minor": 4
}
