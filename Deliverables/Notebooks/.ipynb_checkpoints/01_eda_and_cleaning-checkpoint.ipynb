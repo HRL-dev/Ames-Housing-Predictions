{
 "cells": [
  {
   "cell_type": "code",
   "execution_count": 3,
   "metadata": {},
   "outputs": [],
   "source": [
    "# importing libraries\n",
    "\n",
    "import pandas as pd\n",
    "import numpy as np\n",
    "import matplotlib.pyplot as plt\n",
    "import seaborn as sns\n",
    "\n",
    "from sklearn.linear_model import LinearRegression\n",
    "from sklearn import metrics\n",
    "from sklearn.model_selection import train_test_split, cross_val_score"
   ]
  },
  {
   "cell_type": "code",
   "execution_count": 4,
   "metadata": {},
   "outputs": [],
   "source": [
    "# Reading in data\n",
    "ames_houses = pd.read_csv('../datasets/train.csv')\n",
    "\n",
    "ames_house = pd.read_csv('../datasets/test.csv')"
   ]
  },
  {
   "cell_type": "code",
   "execution_count": 5,
   "metadata": {},
   "outputs": [
    {
     "data": {
      "text/plain": [
       "(2051, 81)"
      ]
     },
     "execution_count": 5,
     "metadata": {},
     "output_type": "execute_result"
    }
   ],
   "source": [
    "# looking through data\n",
    "\n",
    "ames_houses.shape"
   ]
  },
  {
   "cell_type": "code",
   "execution_count": 6,
   "metadata": {},
   "outputs": [],
   "source": [
    "# creating a dataframe with only the columns I care about\n",
    "\n",
    "y = ames_houses['SalePrice']\n",
    "\n",
    "features = ['Garage Cars',\n",
    "            'Total Bsmt SF',\n",
    "            '1st Flr SF',\n",
    "            'Lot Area',\n",
    "            'Lot Config',\n",
    "            'Overall Qual',\n",
    "            'Exter Qual',\n",
    "            'Exter Cond', \n",
    "            'Central Air',\n",
    "            'Gr Liv Area',\n",
    "            'Full Bath',\n",
    "            'Functional',\n",
    "            'Garage Yr Blt',\n",
    "           'Fireplaces',\n",
    "           'Neighborhood',\n",
    "            'Year Built',\n",
    "            'TotRms AbvGrd',\n",
    "           'Garage Area']\n",
    "\n",
    "ames = ames_houses[features].copy()"
   ]
  },
  {
   "cell_type": "code",
   "execution_count": 7,
   "metadata": {},
   "outputs": [
    {
     "data": {
      "text/html": [
       "<div>\n",
       "<style scoped>\n",
       "    .dataframe tbody tr th:only-of-type {\n",
       "        vertical-align: middle;\n",
       "    }\n",
       "\n",
       "    .dataframe tbody tr th {\n",
       "        vertical-align: top;\n",
       "    }\n",
       "\n",
       "    .dataframe thead th {\n",
       "        text-align: right;\n",
       "    }\n",
       "</style>\n",
       "<table border=\"1\" class=\"dataframe\">\n",
       "  <thead>\n",
       "    <tr style=\"text-align: right;\">\n",
       "      <th></th>\n",
       "      <th>Garage Cars</th>\n",
       "      <th>Total Bsmt SF</th>\n",
       "      <th>1st Flr SF</th>\n",
       "      <th>Lot Area</th>\n",
       "      <th>Lot Config</th>\n",
       "      <th>Overall Qual</th>\n",
       "      <th>Exter Qual</th>\n",
       "      <th>Exter Cond</th>\n",
       "      <th>Central Air</th>\n",
       "      <th>Gr Liv Area</th>\n",
       "      <th>Full Bath</th>\n",
       "      <th>Functional</th>\n",
       "      <th>Garage Yr Blt</th>\n",
       "      <th>Fireplaces</th>\n",
       "      <th>Neighborhood</th>\n",
       "      <th>Year Built</th>\n",
       "      <th>TotRms AbvGrd</th>\n",
       "      <th>Garage Area</th>\n",
       "    </tr>\n",
       "  </thead>\n",
       "  <tbody>\n",
       "    <tr>\n",
       "      <th>0</th>\n",
       "      <td>2.0</td>\n",
       "      <td>725.0</td>\n",
       "      <td>725</td>\n",
       "      <td>13517</td>\n",
       "      <td>CulDSac</td>\n",
       "      <td>6</td>\n",
       "      <td>Gd</td>\n",
       "      <td>TA</td>\n",
       "      <td>Y</td>\n",
       "      <td>1479</td>\n",
       "      <td>2</td>\n",
       "      <td>Typ</td>\n",
       "      <td>1976.0</td>\n",
       "      <td>0</td>\n",
       "      <td>Sawyer</td>\n",
       "      <td>1976</td>\n",
       "      <td>6</td>\n",
       "      <td>475.0</td>\n",
       "    </tr>\n",
       "    <tr>\n",
       "      <th>1</th>\n",
       "      <td>2.0</td>\n",
       "      <td>913.0</td>\n",
       "      <td>913</td>\n",
       "      <td>11492</td>\n",
       "      <td>CulDSac</td>\n",
       "      <td>7</td>\n",
       "      <td>Gd</td>\n",
       "      <td>TA</td>\n",
       "      <td>Y</td>\n",
       "      <td>2122</td>\n",
       "      <td>2</td>\n",
       "      <td>Typ</td>\n",
       "      <td>1997.0</td>\n",
       "      <td>1</td>\n",
       "      <td>SawyerW</td>\n",
       "      <td>1996</td>\n",
       "      <td>8</td>\n",
       "      <td>559.0</td>\n",
       "    </tr>\n",
       "    <tr>\n",
       "      <th>2</th>\n",
       "      <td>1.0</td>\n",
       "      <td>1057.0</td>\n",
       "      <td>1057</td>\n",
       "      <td>7922</td>\n",
       "      <td>Inside</td>\n",
       "      <td>5</td>\n",
       "      <td>TA</td>\n",
       "      <td>Gd</td>\n",
       "      <td>Y</td>\n",
       "      <td>1057</td>\n",
       "      <td>1</td>\n",
       "      <td>Typ</td>\n",
       "      <td>1953.0</td>\n",
       "      <td>0</td>\n",
       "      <td>NAmes</td>\n",
       "      <td>1953</td>\n",
       "      <td>5</td>\n",
       "      <td>246.0</td>\n",
       "    </tr>\n",
       "    <tr>\n",
       "      <th>3</th>\n",
       "      <td>2.0</td>\n",
       "      <td>384.0</td>\n",
       "      <td>744</td>\n",
       "      <td>9802</td>\n",
       "      <td>Inside</td>\n",
       "      <td>5</td>\n",
       "      <td>TA</td>\n",
       "      <td>TA</td>\n",
       "      <td>Y</td>\n",
       "      <td>1444</td>\n",
       "      <td>2</td>\n",
       "      <td>Typ</td>\n",
       "      <td>2007.0</td>\n",
       "      <td>0</td>\n",
       "      <td>Timber</td>\n",
       "      <td>2006</td>\n",
       "      <td>7</td>\n",
       "      <td>400.0</td>\n",
       "    </tr>\n",
       "    <tr>\n",
       "      <th>4</th>\n",
       "      <td>2.0</td>\n",
       "      <td>676.0</td>\n",
       "      <td>831</td>\n",
       "      <td>14235</td>\n",
       "      <td>Inside</td>\n",
       "      <td>6</td>\n",
       "      <td>TA</td>\n",
       "      <td>TA</td>\n",
       "      <td>Y</td>\n",
       "      <td>1445</td>\n",
       "      <td>2</td>\n",
       "      <td>Typ</td>\n",
       "      <td>1957.0</td>\n",
       "      <td>0</td>\n",
       "      <td>SawyerW</td>\n",
       "      <td>1900</td>\n",
       "      <td>6</td>\n",
       "      <td>484.0</td>\n",
       "    </tr>\n",
       "  </tbody>\n",
       "</table>\n",
       "</div>"
      ],
      "text/plain": [
       "   Garage Cars  Total Bsmt SF  1st Flr SF  Lot Area Lot Config  Overall Qual  \\\n",
       "0          2.0          725.0         725     13517    CulDSac             6   \n",
       "1          2.0          913.0         913     11492    CulDSac             7   \n",
       "2          1.0         1057.0        1057      7922     Inside             5   \n",
       "3          2.0          384.0         744      9802     Inside             5   \n",
       "4          2.0          676.0         831     14235     Inside             6   \n",
       "\n",
       "  Exter Qual Exter Cond Central Air  Gr Liv Area  Full Bath Functional  \\\n",
       "0         Gd         TA           Y         1479          2        Typ   \n",
       "1         Gd         TA           Y         2122          2        Typ   \n",
       "2         TA         Gd           Y         1057          1        Typ   \n",
       "3         TA         TA           Y         1444          2        Typ   \n",
       "4         TA         TA           Y         1445          2        Typ   \n",
       "\n",
       "   Garage Yr Blt  Fireplaces Neighborhood  Year Built  TotRms AbvGrd  \\\n",
       "0         1976.0           0       Sawyer        1976              6   \n",
       "1         1997.0           1      SawyerW        1996              8   \n",
       "2         1953.0           0        NAmes        1953              5   \n",
       "3         2007.0           0       Timber        2006              7   \n",
       "4         1957.0           0      SawyerW        1900              6   \n",
       "\n",
       "   Garage Area  \n",
       "0        475.0  \n",
       "1        559.0  \n",
       "2        246.0  \n",
       "3        400.0  \n",
       "4        484.0  "
      ]
     },
     "execution_count": 7,
     "metadata": {},
     "output_type": "execute_result"
    }
   ],
   "source": [
    "ames.head()"
   ]
  },
  {
   "cell_type": "code",
   "execution_count": 8,
   "metadata": {},
   "outputs": [],
   "source": [
    "# renaming columns:\n",
    "\n",
    "#college.rename(columns={'Unnamed: 0': 'University'}, inplace = True)"
   ]
  },
  {
   "cell_type": "code",
   "execution_count": 9,
   "metadata": {},
   "outputs": [
    {
     "data": {
      "text/plain": [
       "(2051, 18)"
      ]
     },
     "execution_count": 9,
     "metadata": {},
     "output_type": "execute_result"
    }
   ],
   "source": [
    "ames.shape"
   ]
  },
  {
   "cell_type": "code",
   "execution_count": 10,
   "metadata": {},
   "outputs": [
    {
     "data": {
      "text/plain": [
       "Garage Cars      float64\n",
       "Total Bsmt SF    float64\n",
       "1st Flr SF         int64\n",
       "Lot Area           int64\n",
       "Lot Config        object\n",
       "Overall Qual       int64\n",
       "Exter Qual        object\n",
       "Exter Cond        object\n",
       "Central Air       object\n",
       "Gr Liv Area        int64\n",
       "Full Bath          int64\n",
       "Functional        object\n",
       "Garage Yr Blt    float64\n",
       "Fireplaces         int64\n",
       "Neighborhood      object\n",
       "Year Built         int64\n",
       "TotRms AbvGrd      int64\n",
       "Garage Area      float64\n",
       "dtype: object"
      ]
     },
     "execution_count": 10,
     "metadata": {},
     "output_type": "execute_result"
    }
   ],
   "source": [
    "ames.dtypes"
   ]
  },
  {
   "cell_type": "code",
   "execution_count": 11,
   "metadata": {},
   "outputs": [
    {
     "data": {
      "text/plain": [
       "Garage Cars        1\n",
       "Total Bsmt SF      1\n",
       "1st Flr SF         0\n",
       "Lot Area           0\n",
       "Lot Config         0\n",
       "Overall Qual       0\n",
       "Exter Qual         0\n",
       "Exter Cond         0\n",
       "Central Air        0\n",
       "Gr Liv Area        0\n",
       "Full Bath          0\n",
       "Functional         0\n",
       "Garage Yr Blt    114\n",
       "Fireplaces         0\n",
       "Neighborhood       0\n",
       "Year Built         0\n",
       "TotRms AbvGrd      0\n",
       "Garage Area        1\n",
       "dtype: int64"
      ]
     },
     "execution_count": 11,
     "metadata": {},
     "output_type": "execute_result"
    }
   ],
   "source": [
    "ames.isnull().sum()"
   ]
  },
  {
   "cell_type": "code",
   "execution_count": 12,
   "metadata": {},
   "outputs": [
    {
     "data": {
      "text/plain": [
       "0.0       113\n",
       "440.0      70\n",
       "576.0      69\n",
       "484.0      52\n",
       "528.0      46\n",
       "         ... \n",
       "406.0       1\n",
       "309.0       1\n",
       "580.0       1\n",
       "1184.0      1\n",
       "557.0       1\n",
       "Name: Garage Area, Length: 514, dtype: int64"
      ]
     },
     "execution_count": 12,
     "metadata": {},
     "output_type": "execute_result"
    }
   ],
   "source": [
    "ames['Garage Area'].value_counts()"
   ]
  },
  {
   "cell_type": "code",
   "execution_count": 13,
   "metadata": {},
   "outputs": [
    {
     "data": {
      "text/html": [
       "<div>\n",
       "<style scoped>\n",
       "    .dataframe tbody tr th:only-of-type {\n",
       "        vertical-align: middle;\n",
       "    }\n",
       "\n",
       "    .dataframe tbody tr th {\n",
       "        vertical-align: top;\n",
       "    }\n",
       "\n",
       "    .dataframe thead th {\n",
       "        text-align: right;\n",
       "    }\n",
       "</style>\n",
       "<table border=\"1\" class=\"dataframe\">\n",
       "  <thead>\n",
       "    <tr style=\"text-align: right;\">\n",
       "      <th></th>\n",
       "      <th>Garage Cars</th>\n",
       "      <th>Total Bsmt SF</th>\n",
       "      <th>1st Flr SF</th>\n",
       "      <th>Lot Area</th>\n",
       "      <th>Lot Config</th>\n",
       "      <th>Overall Qual</th>\n",
       "      <th>Exter Qual</th>\n",
       "      <th>Exter Cond</th>\n",
       "      <th>Central Air</th>\n",
       "      <th>Gr Liv Area</th>\n",
       "      <th>Full Bath</th>\n",
       "      <th>Functional</th>\n",
       "      <th>Garage Yr Blt</th>\n",
       "      <th>Fireplaces</th>\n",
       "      <th>Neighborhood</th>\n",
       "      <th>Year Built</th>\n",
       "      <th>TotRms AbvGrd</th>\n",
       "      <th>Garage Area</th>\n",
       "    </tr>\n",
       "  </thead>\n",
       "  <tbody>\n",
       "    <tr>\n",
       "      <th>1712</th>\n",
       "      <td>NaN</td>\n",
       "      <td>859.0</td>\n",
       "      <td>942</td>\n",
       "      <td>9060</td>\n",
       "      <td>Inside</td>\n",
       "      <td>5</td>\n",
       "      <td>TA</td>\n",
       "      <td>TA</td>\n",
       "      <td>Y</td>\n",
       "      <td>1828</td>\n",
       "      <td>2</td>\n",
       "      <td>Typ</td>\n",
       "      <td>NaN</td>\n",
       "      <td>0</td>\n",
       "      <td>IDOTRR</td>\n",
       "      <td>1923</td>\n",
       "      <td>6</td>\n",
       "      <td>NaN</td>\n",
       "    </tr>\n",
       "  </tbody>\n",
       "</table>\n",
       "</div>"
      ],
      "text/plain": [
       "      Garage Cars  Total Bsmt SF  1st Flr SF  Lot Area Lot Config  \\\n",
       "1712          NaN          859.0         942      9060     Inside   \n",
       "\n",
       "      Overall Qual Exter Qual Exter Cond Central Air  Gr Liv Area  Full Bath  \\\n",
       "1712             5         TA         TA           Y         1828          2   \n",
       "\n",
       "     Functional  Garage Yr Blt  Fireplaces Neighborhood  Year Built  \\\n",
       "1712        Typ            NaN           0       IDOTRR        1923   \n",
       "\n",
       "      TotRms AbvGrd  Garage Area  \n",
       "1712              6          NaN  "
      ]
     },
     "execution_count": 13,
     "metadata": {},
     "output_type": "execute_result"
    }
   ],
   "source": [
    "ames_null = ames['Garage Area'].isnull()\n",
    "\n",
    "ames[ames_null]"
   ]
  },
  {
   "cell_type": "code",
   "execution_count": 14,
   "metadata": {},
   "outputs": [],
   "source": [
    "ames['Garage Area'] = ames['Garage Area'].fillna(0)"
   ]
  },
  {
   "cell_type": "code",
   "execution_count": 15,
   "metadata": {},
   "outputs": [
    {
     "data": {
      "text/html": [
       "<div>\n",
       "<style scoped>\n",
       "    .dataframe tbody tr th:only-of-type {\n",
       "        vertical-align: middle;\n",
       "    }\n",
       "\n",
       "    .dataframe tbody tr th {\n",
       "        vertical-align: top;\n",
       "    }\n",
       "\n",
       "    .dataframe thead th {\n",
       "        text-align: right;\n",
       "    }\n",
       "</style>\n",
       "<table border=\"1\" class=\"dataframe\">\n",
       "  <thead>\n",
       "    <tr style=\"text-align: right;\">\n",
       "      <th></th>\n",
       "      <th>Garage Cars</th>\n",
       "      <th>Total Bsmt SF</th>\n",
       "      <th>1st Flr SF</th>\n",
       "      <th>Lot Area</th>\n",
       "      <th>Overall Qual</th>\n",
       "      <th>Gr Liv Area</th>\n",
       "      <th>Full Bath</th>\n",
       "      <th>Garage Yr Blt</th>\n",
       "      <th>Fireplaces</th>\n",
       "      <th>Year Built</th>\n",
       "      <th>TotRms AbvGrd</th>\n",
       "      <th>Garage Area</th>\n",
       "    </tr>\n",
       "  </thead>\n",
       "  <tbody>\n",
       "    <tr>\n",
       "      <th>count</th>\n",
       "      <td>2050.000000</td>\n",
       "      <td>2050.000000</td>\n",
       "      <td>2051.000000</td>\n",
       "      <td>2051.000000</td>\n",
       "      <td>2051.000000</td>\n",
       "      <td>2051.000000</td>\n",
       "      <td>2051.000000</td>\n",
       "      <td>1937.000000</td>\n",
       "      <td>2051.000000</td>\n",
       "      <td>2051.000000</td>\n",
       "      <td>2051.000000</td>\n",
       "      <td>2051.000000</td>\n",
       "    </tr>\n",
       "    <tr>\n",
       "      <th>mean</th>\n",
       "      <td>1.776585</td>\n",
       "      <td>1057.987805</td>\n",
       "      <td>1164.488055</td>\n",
       "      <td>10065.208191</td>\n",
       "      <td>6.112140</td>\n",
       "      <td>1499.330083</td>\n",
       "      <td>1.577279</td>\n",
       "      <td>1978.707796</td>\n",
       "      <td>0.590931</td>\n",
       "      <td>1971.708922</td>\n",
       "      <td>6.435885</td>\n",
       "      <td>473.440761</td>\n",
       "    </tr>\n",
       "    <tr>\n",
       "      <th>std</th>\n",
       "      <td>0.764537</td>\n",
       "      <td>449.410704</td>\n",
       "      <td>396.446923</td>\n",
       "      <td>6742.488909</td>\n",
       "      <td>1.426271</td>\n",
       "      <td>500.447829</td>\n",
       "      <td>0.549279</td>\n",
       "      <td>25.441094</td>\n",
       "      <td>0.638516</td>\n",
       "      <td>30.177889</td>\n",
       "      <td>1.560225</td>\n",
       "      <td>216.135102</td>\n",
       "    </tr>\n",
       "    <tr>\n",
       "      <th>min</th>\n",
       "      <td>0.000000</td>\n",
       "      <td>0.000000</td>\n",
       "      <td>334.000000</td>\n",
       "      <td>1300.000000</td>\n",
       "      <td>1.000000</td>\n",
       "      <td>334.000000</td>\n",
       "      <td>0.000000</td>\n",
       "      <td>1895.000000</td>\n",
       "      <td>0.000000</td>\n",
       "      <td>1872.000000</td>\n",
       "      <td>2.000000</td>\n",
       "      <td>0.000000</td>\n",
       "    </tr>\n",
       "    <tr>\n",
       "      <th>25%</th>\n",
       "      <td>1.000000</td>\n",
       "      <td>793.000000</td>\n",
       "      <td>879.500000</td>\n",
       "      <td>7500.000000</td>\n",
       "      <td>5.000000</td>\n",
       "      <td>1129.000000</td>\n",
       "      <td>1.000000</td>\n",
       "      <td>1961.000000</td>\n",
       "      <td>0.000000</td>\n",
       "      <td>1953.500000</td>\n",
       "      <td>5.000000</td>\n",
       "      <td>319.000000</td>\n",
       "    </tr>\n",
       "    <tr>\n",
       "      <th>50%</th>\n",
       "      <td>2.000000</td>\n",
       "      <td>994.500000</td>\n",
       "      <td>1093.000000</td>\n",
       "      <td>9430.000000</td>\n",
       "      <td>6.000000</td>\n",
       "      <td>1444.000000</td>\n",
       "      <td>2.000000</td>\n",
       "      <td>1980.000000</td>\n",
       "      <td>1.000000</td>\n",
       "      <td>1974.000000</td>\n",
       "      <td>6.000000</td>\n",
       "      <td>480.000000</td>\n",
       "    </tr>\n",
       "    <tr>\n",
       "      <th>75%</th>\n",
       "      <td>2.000000</td>\n",
       "      <td>1318.750000</td>\n",
       "      <td>1405.000000</td>\n",
       "      <td>11513.500000</td>\n",
       "      <td>7.000000</td>\n",
       "      <td>1728.500000</td>\n",
       "      <td>2.000000</td>\n",
       "      <td>2002.000000</td>\n",
       "      <td>1.000000</td>\n",
       "      <td>2001.000000</td>\n",
       "      <td>7.000000</td>\n",
       "      <td>576.000000</td>\n",
       "    </tr>\n",
       "    <tr>\n",
       "      <th>max</th>\n",
       "      <td>5.000000</td>\n",
       "      <td>6110.000000</td>\n",
       "      <td>5095.000000</td>\n",
       "      <td>159000.000000</td>\n",
       "      <td>10.000000</td>\n",
       "      <td>5642.000000</td>\n",
       "      <td>4.000000</td>\n",
       "      <td>2207.000000</td>\n",
       "      <td>4.000000</td>\n",
       "      <td>2010.000000</td>\n",
       "      <td>15.000000</td>\n",
       "      <td>1418.000000</td>\n",
       "    </tr>\n",
       "  </tbody>\n",
       "</table>\n",
       "</div>"
      ],
      "text/plain": [
       "       Garage Cars  Total Bsmt SF   1st Flr SF       Lot Area  Overall Qual  \\\n",
       "count  2050.000000    2050.000000  2051.000000    2051.000000   2051.000000   \n",
       "mean      1.776585    1057.987805  1164.488055   10065.208191      6.112140   \n",
       "std       0.764537     449.410704   396.446923    6742.488909      1.426271   \n",
       "min       0.000000       0.000000   334.000000    1300.000000      1.000000   \n",
       "25%       1.000000     793.000000   879.500000    7500.000000      5.000000   \n",
       "50%       2.000000     994.500000  1093.000000    9430.000000      6.000000   \n",
       "75%       2.000000    1318.750000  1405.000000   11513.500000      7.000000   \n",
       "max       5.000000    6110.000000  5095.000000  159000.000000     10.000000   \n",
       "\n",
       "       Gr Liv Area    Full Bath  Garage Yr Blt   Fireplaces   Year Built  \\\n",
       "count  2051.000000  2051.000000    1937.000000  2051.000000  2051.000000   \n",
       "mean   1499.330083     1.577279    1978.707796     0.590931  1971.708922   \n",
       "std     500.447829     0.549279      25.441094     0.638516    30.177889   \n",
       "min     334.000000     0.000000    1895.000000     0.000000  1872.000000   \n",
       "25%    1129.000000     1.000000    1961.000000     0.000000  1953.500000   \n",
       "50%    1444.000000     2.000000    1980.000000     1.000000  1974.000000   \n",
       "75%    1728.500000     2.000000    2002.000000     1.000000  2001.000000   \n",
       "max    5642.000000     4.000000    2207.000000     4.000000  2010.000000   \n",
       "\n",
       "       TotRms AbvGrd  Garage Area  \n",
       "count    2051.000000  2051.000000  \n",
       "mean        6.435885   473.440761  \n",
       "std         1.560225   216.135102  \n",
       "min         2.000000     0.000000  \n",
       "25%         5.000000   319.000000  \n",
       "50%         6.000000   480.000000  \n",
       "75%         7.000000   576.000000  \n",
       "max        15.000000  1418.000000  "
      ]
     },
     "execution_count": 15,
     "metadata": {},
     "output_type": "execute_result"
    }
   ],
   "source": [
    "ames.describe()"
   ]
  },
  {
   "cell_type": "code",
   "execution_count": 16,
   "metadata": {},
   "outputs": [
    {
     "data": {
      "text/plain": [
       "Garage Cars        1\n",
       "Total Bsmt SF      1\n",
       "1st Flr SF         0\n",
       "Lot Area           0\n",
       "Lot Config         0\n",
       "Overall Qual       0\n",
       "Exter Qual         0\n",
       "Exter Cond         0\n",
       "Central Air        0\n",
       "Gr Liv Area        0\n",
       "Full Bath          0\n",
       "Functional         0\n",
       "Garage Yr Blt    114\n",
       "Fireplaces         0\n",
       "Neighborhood       0\n",
       "Year Built         0\n",
       "TotRms AbvGrd      0\n",
       "Garage Area        0\n",
       "dtype: int64"
      ]
     },
     "execution_count": 16,
     "metadata": {},
     "output_type": "execute_result"
    }
   ],
   "source": [
    "ames.isnull().sum()"
   ]
  },
  {
   "cell_type": "code",
   "execution_count": 17,
   "metadata": {},
   "outputs": [
    {
     "data": {
      "text/plain": [
       "NAmes      310\n",
       "CollgCr    180\n",
       "OldTown    163\n",
       "Edwards    143\n",
       "Somerst    130\n",
       "NridgHt    122\n",
       "Gilbert    116\n",
       "Sawyer     111\n",
       "SawyerW     87\n",
       "NWAmes      87\n",
       "Mitchel     82\n",
       "BrkSide     76\n",
       "Crawfor     71\n",
       "IDOTRR      69\n",
       "Timber      48\n",
       "NoRidge     48\n",
       "StoneBr     38\n",
       "SWISU       32\n",
       "ClearCr     27\n",
       "MeadowV     24\n",
       "Blmngtn     22\n",
       "BrDale      19\n",
       "Veenker     17\n",
       "NPkVill     17\n",
       "Blueste      6\n",
       "Greens       3\n",
       "GrnHill      2\n",
       "Landmrk      1\n",
       "Name: Neighborhood, dtype: int64"
      ]
     },
     "execution_count": 17,
     "metadata": {},
     "output_type": "execute_result"
    }
   ],
   "source": [
    "ames['Neighborhood'].value_counts()"
   ]
  },
  {
   "cell_type": "code",
   "execution_count": 18,
   "metadata": {},
   "outputs": [
    {
     "data": {
      "text/plain": [
       "5     563\n",
       "6     506\n",
       "7     431\n",
       "8     250\n",
       "4     159\n",
       "9      77\n",
       "3      29\n",
       "10     23\n",
       "2       9\n",
       "1       4\n",
       "Name: Overall Qual, dtype: int64"
      ]
     },
     "execution_count": 18,
     "metadata": {},
     "output_type": "execute_result"
    }
   ],
   "source": [
    "ames['Overall Qual'].value_counts()"
   ]
  },
  {
   "cell_type": "code",
   "execution_count": 19,
   "metadata": {},
   "outputs": [
    {
     "data": {
      "text/plain": [
       "(array([115., 237., 404., 696., 336., 153.,  87.,  11.,   8.,   4.]),\n",
       " array([   0. ,  141.8,  283.6,  425.4,  567.2,  709. ,  850.8,  992.6,\n",
       "        1134.4, 1276.2, 1418. ]),\n",
       " <a list of 10 Patch objects>)"
      ]
     },
     "execution_count": 19,
     "metadata": {},
     "output_type": "execute_result"
    },
    {
     "data": {
      "image/png": "[encoded data removed]",
      "text/plain": [
       "<Figure size 432x288 with 1 Axes>"
      ]
     },
     "metadata": {
      "needs_background": "light"
     },
     "output_type": "display_data"
    }
   ],
   "source": [
    "plt.hist(ames['Garage Area'])"
   ]
  },
  {
   "cell_type": "code",
   "execution_count": 20,
   "metadata": {},
   "outputs": [
    {
     "data": {
      "text/plain": [
       "<matplotlib.collections.PathCollection at 0x117622940>"
      ]
     },
     "execution_count": 20,
     "metadata": {},
     "output_type": "execute_result"
    },
    {
     "data": {
      "image/png": "[encoded data removed]",
      "text/plain": [
       "<Figure size 432x288 with 1 Axes>"
      ]
     },
     "metadata": {
      "needs_background": "light"
     },
     "output_type": "display_data"
    }
   ],
   "source": [
    "plt.scatter(ames['Lot Area'], y)"
   ]
  },
  {
   "cell_type": "code",
   "execution_count": 21,
   "metadata": {},
   "outputs": [
    {
     "data": {
      "text/plain": [
       "<matplotlib.collections.PathCollection at 0x117788c40>"
      ]
     },
     "execution_count": 21,
     "metadata": {},
     "output_type": "execute_result"
    },
    {
     "data": {
      "image/png": "[encoded data removed]",
      "text/plain": [
       "<Figure size 432x288 with 1 Axes>"
      ]
     },
     "metadata": {
      "needs_background": "light"
     },
     "output_type": "display_data"
    }
   ],
   "source": [
    "plt.scatter(ames['Gr Liv Area'], y)"
   ]
  },
  {
   "cell_type": "code",
   "execution_count": 22,
   "metadata": {},
   "outputs": [
    {
     "data": {
      "text/html": [
       "<div>\n",
       "<style scoped>\n",
       "    .dataframe tbody tr th:only-of-type {\n",
       "        vertical-align: middle;\n",
       "    }\n",
       "\n",
       "    .dataframe tbody tr th {\n",
       "        vertical-align: top;\n",
       "    }\n",
       "\n",
       "    .dataframe thead th {\n",
       "        text-align: right;\n",
       "    }\n",
       "</style>\n",
       "<table border=\"1\" class=\"dataframe\">\n",
       "  <thead>\n",
       "    <tr style=\"text-align: right;\">\n",
       "      <th></th>\n",
       "      <th>Garage Cars</th>\n",
       "      <th>Total Bsmt SF</th>\n",
       "      <th>1st Flr SF</th>\n",
       "      <th>Lot Area</th>\n",
       "      <th>Lot Config</th>\n",
       "      <th>Overall Qual</th>\n",
       "      <th>Exter Qual</th>\n",
       "      <th>Exter Cond</th>\n",
       "      <th>Central Air</th>\n",
       "      <th>Gr Liv Area</th>\n",
       "      <th>Full Bath</th>\n",
       "      <th>Functional</th>\n",
       "      <th>Garage Yr Blt</th>\n",
       "      <th>Fireplaces</th>\n",
       "      <th>Neighborhood</th>\n",
       "      <th>Year Built</th>\n",
       "      <th>TotRms AbvGrd</th>\n",
       "      <th>Garage Area</th>\n",
       "    </tr>\n",
       "  </thead>\n",
       "  <tbody>\n",
       "    <tr>\n",
       "      <th>471</th>\n",
       "      <td>2.0</td>\n",
       "      <td>1444.0</td>\n",
       "      <td>1444</td>\n",
       "      <td>159000</td>\n",
       "      <td>CulDSac</td>\n",
       "      <td>6</td>\n",
       "      <td>Gd</td>\n",
       "      <td>TA</td>\n",
       "      <td>Y</td>\n",
       "      <td>2144</td>\n",
       "      <td>2</td>\n",
       "      <td>Typ</td>\n",
       "      <td>1958.0</td>\n",
       "      <td>2</td>\n",
       "      <td>ClearCr</td>\n",
       "      <td>1958</td>\n",
       "      <td>7</td>\n",
       "      <td>389.0</td>\n",
       "    </tr>\n",
       "    <tr>\n",
       "      <th>694</th>\n",
       "      <td>2.0</td>\n",
       "      <td>1643.0</td>\n",
       "      <td>1824</td>\n",
       "      <td>115149</td>\n",
       "      <td>CulDSac</td>\n",
       "      <td>7</td>\n",
       "      <td>TA</td>\n",
       "      <td>TA</td>\n",
       "      <td>Y</td>\n",
       "      <td>1824</td>\n",
       "      <td>2</td>\n",
       "      <td>Typ</td>\n",
       "      <td>1971.0</td>\n",
       "      <td>2</td>\n",
       "      <td>ClearCr</td>\n",
       "      <td>1971</td>\n",
       "      <td>5</td>\n",
       "      <td>739.0</td>\n",
       "    </tr>\n",
       "    <tr>\n",
       "      <th>1854</th>\n",
       "      <td>2.0</td>\n",
       "      <td>1533.0</td>\n",
       "      <td>1533</td>\n",
       "      <td>70761</td>\n",
       "      <td>Inside</td>\n",
       "      <td>7</td>\n",
       "      <td>TA</td>\n",
       "      <td>TA</td>\n",
       "      <td>Y</td>\n",
       "      <td>1533</td>\n",
       "      <td>2</td>\n",
       "      <td>Typ</td>\n",
       "      <td>1975.0</td>\n",
       "      <td>2</td>\n",
       "      <td>ClearCr</td>\n",
       "      <td>1975</td>\n",
       "      <td>5</td>\n",
       "      <td>576.0</td>\n",
       "    </tr>\n",
       "    <tr>\n",
       "      <th>960</th>\n",
       "      <td>2.0</td>\n",
       "      <td>6110.0</td>\n",
       "      <td>4692</td>\n",
       "      <td>63887</td>\n",
       "      <td>Corner</td>\n",
       "      <td>10</td>\n",
       "      <td>Ex</td>\n",
       "      <td>TA</td>\n",
       "      <td>Y</td>\n",
       "      <td>5642</td>\n",
       "      <td>2</td>\n",
       "      <td>Typ</td>\n",
       "      <td>2008.0</td>\n",
       "      <td>3</td>\n",
       "      <td>Edwards</td>\n",
       "      <td>2008</td>\n",
       "      <td>12</td>\n",
       "      <td>1418.0</td>\n",
       "    </tr>\n",
       "    <tr>\n",
       "      <th>745</th>\n",
       "      <td>2.0</td>\n",
       "      <td>747.0</td>\n",
       "      <td>1687</td>\n",
       "      <td>57200</td>\n",
       "      <td>Inside</td>\n",
       "      <td>5</td>\n",
       "      <td>TA</td>\n",
       "      <td>TA</td>\n",
       "      <td>Y</td>\n",
       "      <td>1687</td>\n",
       "      <td>1</td>\n",
       "      <td>Min1</td>\n",
       "      <td>1966.0</td>\n",
       "      <td>2</td>\n",
       "      <td>Timber</td>\n",
       "      <td>1948</td>\n",
       "      <td>7</td>\n",
       "      <td>572.0</td>\n",
       "    </tr>\n",
       "    <tr>\n",
       "      <th>...</th>\n",
       "      <td>...</td>\n",
       "      <td>...</td>\n",
       "      <td>...</td>\n",
       "      <td>...</td>\n",
       "      <td>...</td>\n",
       "      <td>...</td>\n",
       "      <td>...</td>\n",
       "      <td>...</td>\n",
       "      <td>...</td>\n",
       "      <td>...</td>\n",
       "      <td>...</td>\n",
       "      <td>...</td>\n",
       "      <td>...</td>\n",
       "      <td>...</td>\n",
       "      <td>...</td>\n",
       "      <td>...</td>\n",
       "      <td>...</td>\n",
       "      <td>...</td>\n",
       "    </tr>\n",
       "    <tr>\n",
       "      <th>1447</th>\n",
       "      <td>1.0</td>\n",
       "      <td>546.0</td>\n",
       "      <td>546</td>\n",
       "      <td>1484</td>\n",
       "      <td>Inside</td>\n",
       "      <td>4</td>\n",
       "      <td>TA</td>\n",
       "      <td>TA</td>\n",
       "      <td>Y</td>\n",
       "      <td>1092</td>\n",
       "      <td>1</td>\n",
       "      <td>Typ</td>\n",
       "      <td>1972.0</td>\n",
       "      <td>0</td>\n",
       "      <td>MeadowV</td>\n",
       "      <td>1972</td>\n",
       "      <td>5</td>\n",
       "      <td>253.0</td>\n",
       "    </tr>\n",
       "    <tr>\n",
       "      <th>787</th>\n",
       "      <td>0.0</td>\n",
       "      <td>546.0</td>\n",
       "      <td>546</td>\n",
       "      <td>1477</td>\n",
       "      <td>Inside</td>\n",
       "      <td>6</td>\n",
       "      <td>TA</td>\n",
       "      <td>Gd</td>\n",
       "      <td>Y</td>\n",
       "      <td>1092</td>\n",
       "      <td>2</td>\n",
       "      <td>Typ</td>\n",
       "      <td>NaN</td>\n",
       "      <td>0</td>\n",
       "      <td>MeadowV</td>\n",
       "      <td>1970</td>\n",
       "      <td>6</td>\n",
       "      <td>0.0</td>\n",
       "    </tr>\n",
       "    <tr>\n",
       "      <th>53</th>\n",
       "      <td>0.0</td>\n",
       "      <td>546.0</td>\n",
       "      <td>546</td>\n",
       "      <td>1476</td>\n",
       "      <td>Inside</td>\n",
       "      <td>4</td>\n",
       "      <td>TA</td>\n",
       "      <td>TA</td>\n",
       "      <td>Y</td>\n",
       "      <td>1092</td>\n",
       "      <td>1</td>\n",
       "      <td>Typ</td>\n",
       "      <td>NaN</td>\n",
       "      <td>0</td>\n",
       "      <td>MeadowV</td>\n",
       "      <td>1970</td>\n",
       "      <td>5</td>\n",
       "      <td>0.0</td>\n",
       "    </tr>\n",
       "    <tr>\n",
       "      <th>1544</th>\n",
       "      <td>0.0</td>\n",
       "      <td>630.0</td>\n",
       "      <td>630</td>\n",
       "      <td>1470</td>\n",
       "      <td>Inside</td>\n",
       "      <td>4</td>\n",
       "      <td>TA</td>\n",
       "      <td>TA</td>\n",
       "      <td>Y</td>\n",
       "      <td>630</td>\n",
       "      <td>1</td>\n",
       "      <td>Typ</td>\n",
       "      <td>NaN</td>\n",
       "      <td>0</td>\n",
       "      <td>MeadowV</td>\n",
       "      <td>1970</td>\n",
       "      <td>3</td>\n",
       "      <td>0.0</td>\n",
       "    </tr>\n",
       "    <tr>\n",
       "      <th>1510</th>\n",
       "      <td>2.0</td>\n",
       "      <td>561.0</td>\n",
       "      <td>561</td>\n",
       "      <td>1300</td>\n",
       "      <td>Inside</td>\n",
       "      <td>6</td>\n",
       "      <td>TA</td>\n",
       "      <td>TA</td>\n",
       "      <td>Y</td>\n",
       "      <td>1229</td>\n",
       "      <td>1</td>\n",
       "      <td>Typ</td>\n",
       "      <td>1980.0</td>\n",
       "      <td>1</td>\n",
       "      <td>Blueste</td>\n",
       "      <td>1980</td>\n",
       "      <td>5</td>\n",
       "      <td>462.0</td>\n",
       "    </tr>\n",
       "  </tbody>\n",
       "</table>\n",
       "<p>2051 rows × 18 columns</p>\n",
       "</div>"
      ],
      "text/plain": [
       "      Garage Cars  Total Bsmt SF  1st Flr SF  Lot Area Lot Config  \\\n",
       "471           2.0         1444.0        1444    159000    CulDSac   \n",
       "694           2.0         1643.0        1824    115149    CulDSac   \n",
       "1854          2.0         1533.0        1533     70761     Inside   \n",
       "960           2.0         6110.0        4692     63887     Corner   \n",
       "745           2.0          747.0        1687     57200     Inside   \n",
       "...           ...            ...         ...       ...        ...   \n",
       "1447          1.0          546.0         546      1484     Inside   \n",
       "787           0.0          546.0         546      1477     Inside   \n",
       "53            0.0          546.0         546      1476     Inside   \n",
       "1544          0.0          630.0         630      1470     Inside   \n",
       "1510          2.0          561.0         561      1300     Inside   \n",
       "\n",
       "      Overall Qual Exter Qual Exter Cond Central Air  Gr Liv Area  Full Bath  \\\n",
       "471              6         Gd         TA           Y         2144          2   \n",
       "694              7         TA         TA           Y         1824          2   \n",
       "1854             7         TA         TA           Y         1533          2   \n",
       "960             10         Ex         TA           Y         5642          2   \n",
       "745              5         TA         TA           Y         1687          1   \n",
       "...            ...        ...        ...         ...          ...        ...   \n",
       "1447             4         TA         TA           Y         1092          1   \n",
       "787              6         TA         Gd           Y         1092          2   \n",
       "53               4         TA         TA           Y         1092          1   \n",
       "1544             4         TA         TA           Y          630          1   \n",
       "1510             6         TA         TA           Y         1229          1   \n",
       "\n",
       "     Functional  Garage Yr Blt  Fireplaces Neighborhood  Year Built  \\\n",
       "471         Typ         1958.0           2      ClearCr        1958   \n",
       "694         Typ         1971.0           2      ClearCr        1971   \n",
       "1854        Typ         1975.0           2      ClearCr        1975   \n",
       "960         Typ         2008.0           3      Edwards        2008   \n",
       "745        Min1         1966.0           2       Timber        1948   \n",
       "...         ...            ...         ...          ...         ...   \n",
       "1447        Typ         1972.0           0      MeadowV        1972   \n",
       "787         Typ            NaN           0      MeadowV        1970   \n",
       "53          Typ            NaN           0      MeadowV        1970   \n",
       "1544        Typ            NaN           0      MeadowV        1970   \n",
       "1510        Typ         1980.0           1      Blueste        1980   \n",
       "\n",
       "      TotRms AbvGrd  Garage Area  \n",
       "471               7        389.0  \n",
       "694               5        739.0  \n",
       "1854              5        576.0  \n",
       "960              12       1418.0  \n",
       "745               7        572.0  \n",
       "...             ...          ...  \n",
       "1447              5        253.0  \n",
       "787               6          0.0  \n",
       "53                5          0.0  \n",
       "1544              3          0.0  \n",
       "1510              5        462.0  \n",
       "\n",
       "[2051 rows x 18 columns]"
      ]
     },
     "execution_count": 22,
     "metadata": {},
     "output_type": "execute_result"
    }
   ],
   "source": [
    "ames.sort_values('Lot Area', ascending = False)"
   ]
  },
  {
   "cell_type": "code",
   "execution_count": null,
   "metadata": {},
   "outputs": [],
   "source": []
  },
  {
   "cell_type": "code",
   "execution_count": 23,
   "metadata": {},
   "outputs": [
    {
     "data": {
      "text/plain": [
       "<BarContainer object of 2051 artists>"
      ]
     },
     "execution_count": 23,
     "metadata": {},
     "output_type": "execute_result"
    },
    {
     "data": {
      "image/png": "[encoded data removed]",
      "text/plain": [
       "<Figure size 432x288 with 1 Axes>"
      ]
     },
     "metadata": {
      "needs_background": "light"
     },
     "output_type": "display_data"
    }
   ],
   "source": [
    "plt.bar(ames['Full Bath'], y)"
   ]
  },
  {
   "cell_type": "code",
   "execution_count": 26,
   "metadata": {},
   "outputs": [
    {
     "data": {
      "image/png": "[encoded data removed]",
      "text/plain": [
       "<Figure size 432x288 with 1 Axes>"
      ]
     },
     "metadata": {
      "needs_background": "light"
     },
     "output_type": "display_data"
    }
   ],
   "source": [
    "plt.bar(ames_houses['Yr Sold'], y);"
   ]
  },
  {
   "cell_type": "code",
   "execution_count": 28,
   "metadata": {},
   "outputs": [
    {
     "data": {
      "image/png": "[encoded data removed]",
      "text/plain": [
       "<Figure size 432x288 with 1 Axes>"
      ]
     },
     "metadata": {
      "needs_background": "light"
     },
     "output_type": "display_data"
    }
   ],
   "source": [
    "plt.hist(ames_houses['Overall Cond']);"
   ]
  },
  {
   "cell_type": "code",
   "execution_count": 29,
   "metadata": {},
   "outputs": [],
   "source": [
    "color_dict = {1 : 'purple', 2 : 'red', 3 : 'blue', 4 : 'green', 5 : 'cyan',\n",
    "                                  6 : 'orange', 7 : 'pink', 8 : 'yellow', 9 : 'salmon', 10 : 'magenta'}"
   ]
  },
  {
   "cell_type": "code",
   "execution_count": 30,
   "metadata": {},
   "outputs": [],
   "source": [
    "ames['colors'] = ames['Overall Qual'].map(color_dict)"
   ]
  },
  {
   "cell_type": "code",
   "execution_count": 31,
   "metadata": {},
   "outputs": [],
   "source": [
    "colors = ames['Overall Qual'].map(color_dict)"
   ]
  },
  {
   "cell_type": "code",
   "execution_count": 32,
   "metadata": {},
   "outputs": [
    {
     "data": {
      "text/plain": [
       "Text(0.5, 1.0, 'How House Quality Affects Sale Price')"
      ]
     },
     "execution_count": 32,
     "metadata": {},
     "output_type": "execute_result"
    },
    {
     "data": {
      "image/png": "[encoded data removed]",
      "text/plain": [
       "<Figure size 432x288 with 1 Axes>"
      ]
     },
     "metadata": {
      "needs_background": "light"
     },
     "output_type": "display_data"
    }
   ],
   "source": [
    "plt.scatter(ames['Overall Qual'], y, c = colors)\n",
    "\n",
    "plt.xlabel('Overall Quality Rating')\n",
    "plt.ylabel('Sale Price')\n",
    "\n",
    "plt.title('How House Quality Affects Sale Price')"
   ]
  },
  {
   "cell_type": "code",
   "execution_count": 34,
   "metadata": {},
   "outputs": [
    {
     "data": {
      "image/png": "[encoded data removed]",
      "text/plain": [
       "<Figure size 864x360 with 1 Axes>"
      ]
     },
     "metadata": {
      "needs_background": "light"
     },
     "output_type": "display_data"
    }
   ],
   "source": [
    "plt.figure(figsize = (12, 5))\n",
    "\n",
    "plt.bar(ames['Neighborhood'], y)\n",
    "\n",
    "plt.xticks(rotation = 25);"
   ]
  },
  {
   "cell_type": "code",
   "execution_count": 35,
   "metadata": {},
   "outputs": [],
   "source": [
    "# Numerical X - making a baseline X from only the numerical columns that I've chosen\n",
    "\n",
    "X = ames._get_numeric_data()"
   ]
  },
  {
   "cell_type": "code",
   "execution_count": 36,
   "metadata": {},
   "outputs": [
    {
     "data": {
      "image/png": "[encoded data removed]",
      "text/plain": [
       "<Figure size 360x864 with 2 Axes>"
      ]
     },
     "metadata": {
      "needs_background": "light"
     },
     "output_type": "display_data"
    }
   ],
   "source": [
    "plt.figure(figsize=(5, 12))\n",
    "\n",
    "sns.heatmap(ames_houses._get_numeric_data().corr()[['SalePrice']],\n",
    "            vmin = -1,\n",
    "            vmax = 1,\n",
    "            annot = True,\n",
    "            cmap = 'mako');"
   ]
  },
  {
   "cell_type": "code",
   "execution_count": 37,
   "metadata": {},
   "outputs": [],
   "source": [
    "ames['overall_liv_area'] = ames['Overall Qual'] * ames['Gr Liv Area']"
   ]
  },
  {
   "cell_type": "code",
   "execution_count": 38,
   "metadata": {},
   "outputs": [
    {
     "data": {
      "text/html": [
       "<div>\n",
       "<style scoped>\n",
       "    .dataframe tbody tr th:only-of-type {\n",
       "        vertical-align: middle;\n",
       "    }\n",
       "\n",
       "    .dataframe tbody tr th {\n",
       "        vertical-align: top;\n",
       "    }\n",
       "\n",
       "    .dataframe thead th {\n",
       "        text-align: right;\n",
       "    }\n",
       "</style>\n",
       "<table border=\"1\" class=\"dataframe\">\n",
       "  <thead>\n",
       "    <tr style=\"text-align: right;\">\n",
       "      <th></th>\n",
       "      <th>Garage Cars</th>\n",
       "      <th>Total Bsmt SF</th>\n",
       "      <th>1st Flr SF</th>\n",
       "      <th>Lot Area</th>\n",
       "      <th>Lot Config</th>\n",
       "      <th>Overall Qual</th>\n",
       "      <th>Exter Qual</th>\n",
       "      <th>Exter Cond</th>\n",
       "      <th>Central Air</th>\n",
       "      <th>Gr Liv Area</th>\n",
       "      <th>Full Bath</th>\n",
       "      <th>Functional</th>\n",
       "      <th>Garage Yr Blt</th>\n",
       "      <th>Fireplaces</th>\n",
       "      <th>Neighborhood</th>\n",
       "      <th>Year Built</th>\n",
       "      <th>TotRms AbvGrd</th>\n",
       "      <th>Garage Area</th>\n",
       "      <th>colors</th>\n",
       "      <th>overall_liv_area</th>\n",
       "    </tr>\n",
       "  </thead>\n",
       "  <tbody>\n",
       "    <tr>\n",
       "      <th>0</th>\n",
       "      <td>2.0</td>\n",
       "      <td>725.0</td>\n",
       "      <td>725</td>\n",
       "      <td>13517</td>\n",
       "      <td>CulDSac</td>\n",
       "      <td>6</td>\n",
       "      <td>Gd</td>\n",
       "      <td>TA</td>\n",
       "      <td>Y</td>\n",
       "      <td>1479</td>\n",
       "      <td>2</td>\n",
       "      <td>Typ</td>\n",
       "      <td>1976.0</td>\n",
       "      <td>0</td>\n",
       "      <td>Sawyer</td>\n",
       "      <td>1976</td>\n",
       "      <td>6</td>\n",
       "      <td>475.0</td>\n",
       "      <td>orange</td>\n",
       "      <td>8874</td>\n",
       "    </tr>\n",
       "    <tr>\n",
       "      <th>1</th>\n",
       "      <td>2.0</td>\n",
       "      <td>913.0</td>\n",
       "      <td>913</td>\n",
       "      <td>11492</td>\n",
       "      <td>CulDSac</td>\n",
       "      <td>7</td>\n",
       "      <td>Gd</td>\n",
       "      <td>TA</td>\n",
       "      <td>Y</td>\n",
       "      <td>2122</td>\n",
       "      <td>2</td>\n",
       "      <td>Typ</td>\n",
       "      <td>1997.0</td>\n",
       "      <td>1</td>\n",
       "      <td>SawyerW</td>\n",
       "      <td>1996</td>\n",
       "      <td>8</td>\n",
       "      <td>559.0</td>\n",
       "      <td>pink</td>\n",
       "      <td>14854</td>\n",
       "    </tr>\n",
       "    <tr>\n",
       "      <th>2</th>\n",
       "      <td>1.0</td>\n",
       "      <td>1057.0</td>\n",
       "      <td>1057</td>\n",
       "      <td>7922</td>\n",
       "      <td>Inside</td>\n",
       "      <td>5</td>\n",
       "      <td>TA</td>\n",
       "      <td>Gd</td>\n",
       "      <td>Y</td>\n",
       "      <td>1057</td>\n",
       "      <td>1</td>\n",
       "      <td>Typ</td>\n",
       "      <td>1953.0</td>\n",
       "      <td>0</td>\n",
       "      <td>NAmes</td>\n",
       "      <td>1953</td>\n",
       "      <td>5</td>\n",
       "      <td>246.0</td>\n",
       "      <td>cyan</td>\n",
       "      <td>5285</td>\n",
       "    </tr>\n",
       "    <tr>\n",
       "      <th>3</th>\n",
       "      <td>2.0</td>\n",
       "      <td>384.0</td>\n",
       "      <td>744</td>\n",
       "      <td>9802</td>\n",
       "      <td>Inside</td>\n",
       "      <td>5</td>\n",
       "      <td>TA</td>\n",
       "      <td>TA</td>\n",
       "      <td>Y</td>\n",
       "      <td>1444</td>\n",
       "      <td>2</td>\n",
       "      <td>Typ</td>\n",
       "      <td>2007.0</td>\n",
       "      <td>0</td>\n",
       "      <td>Timber</td>\n",
       "      <td>2006</td>\n",
       "      <td>7</td>\n",
       "      <td>400.0</td>\n",
       "      <td>cyan</td>\n",
       "      <td>7220</td>\n",
       "    </tr>\n",
       "    <tr>\n",
       "      <th>4</th>\n",
       "      <td>2.0</td>\n",
       "      <td>676.0</td>\n",
       "      <td>831</td>\n",
       "      <td>14235</td>\n",
       "      <td>Inside</td>\n",
       "      <td>6</td>\n",
       "      <td>TA</td>\n",
       "      <td>TA</td>\n",
       "      <td>Y</td>\n",
       "      <td>1445</td>\n",
       "      <td>2</td>\n",
       "      <td>Typ</td>\n",
       "      <td>1957.0</td>\n",
       "      <td>0</td>\n",
       "      <td>SawyerW</td>\n",
       "      <td>1900</td>\n",
       "      <td>6</td>\n",
       "      <td>484.0</td>\n",
       "      <td>orange</td>\n",
       "      <td>8670</td>\n",
       "    </tr>\n",
       "  </tbody>\n",
       "</table>\n",
       "</div>"
      ],
      "text/plain": [
       "   Garage Cars  Total Bsmt SF  1st Flr SF  Lot Area Lot Config  Overall Qual  \\\n",
       "0          2.0          725.0         725     13517    CulDSac             6   \n",
       "1          2.0          913.0         913     11492    CulDSac             7   \n",
       "2          1.0         1057.0        1057      7922     Inside             5   \n",
       "3          2.0          384.0         744      9802     Inside             5   \n",
       "4          2.0          676.0         831     14235     Inside             6   \n",
       "\n",
       "  Exter Qual Exter Cond Central Air  Gr Liv Area  Full Bath Functional  \\\n",
       "0         Gd         TA           Y         1479          2        Typ   \n",
       "1         Gd         TA           Y         2122          2        Typ   \n",
       "2         TA         Gd           Y         1057          1        Typ   \n",
       "3         TA         TA           Y         1444          2        Typ   \n",
       "4         TA         TA           Y         1445          2        Typ   \n",
       "\n",
       "   Garage Yr Blt  Fireplaces Neighborhood  Year Built  TotRms AbvGrd  \\\n",
       "0         1976.0           0       Sawyer        1976              6   \n",
       "1         1997.0           1      SawyerW        1996              8   \n",
       "2         1953.0           0        NAmes        1953              5   \n",
       "3         2007.0           0       Timber        2006              7   \n",
       "4         1957.0           0      SawyerW        1900              6   \n",
       "\n",
       "   Garage Area  colors  overall_liv_area  \n",
       "0        475.0  orange              8874  \n",
       "1        559.0    pink             14854  \n",
       "2        246.0    cyan              5285  \n",
       "3        400.0    cyan              7220  \n",
       "4        484.0  orange              8670  "
      ]
     },
     "execution_count": 38,
     "metadata": {},
     "output_type": "execute_result"
    }
   ],
   "source": [
    "ames.head()"
   ]
  },
  {
   "cell_type": "code",
   "execution_count": 49,
   "metadata": {},
   "outputs": [],
   "source": [
    "X['Garage Yr Blt'] = X['Garage Yr Blt'].fillna(0)\n",
    "\n",
    "X['Garage Cars'] = X['Garage Yr Blt'].fillna(0)\n",
    "\n",
    "X['Total Bsmt SF'] = X['Garage Yr Blt'].fillna(0)"
   ]
  },
  {
   "cell_type": "code",
   "execution_count": 50,
   "metadata": {},
   "outputs": [],
   "source": [
    "# Creating the model: splitting the data\n",
    "\n",
    "X_train, X_test, y_train, y_test = train_test_split(X, y, random_state = 142)"
   ]
  },
  {
   "cell_type": "code",
   "execution_count": 53,
   "metadata": {},
   "outputs": [
    {
     "data": {
      "text/plain": [
       "LinearRegression()"
      ]
     },
     "execution_count": 53,
     "metadata": {},
     "output_type": "execute_result"
    }
   ],
   "source": [
    "# making a model and fitting the model\n",
    "\n",
    "lr = LinearRegression()\n",
    "lr.fit(X_train, y_train)"
   ]
  },
  {
   "cell_type": "code",
   "execution_count": 55,
   "metadata": {},
   "outputs": [
    {
     "data": {
      "text/plain": [
       "0.7879765002754742"
      ]
     },
     "execution_count": 55,
     "metadata": {},
     "output_type": "execute_result"
    }
   ],
   "source": [
    "# getting cross value score for model\n",
    "\n",
    "cross_val_score(lr, X, y).mean()\n",
    "\n",
    "# not terrible, but could certainly be better. Moving forward with the baseline model."
   ]
  },
  {
   "cell_type": "code",
   "execution_count": 56,
   "metadata": {},
   "outputs": [
    {
     "data": {
      "text/plain": [
       "0.7807153674568341"
      ]
     },
     "execution_count": 56,
     "metadata": {},
     "output_type": "execute_result"
    }
   ],
   "source": [
    "# getting r2 score for training data\n",
    "\n",
    "lr.score(X_train, y_train)"
   ]
  },
  {
   "cell_type": "code",
   "execution_count": 57,
   "metadata": {},
   "outputs": [
    {
     "data": {
      "text/plain": [
       "0.764457296433601"
      ]
     },
     "execution_count": 57,
     "metadata": {},
     "output_type": "execute_result"
    }
   ],
   "source": [
    "# getting r2 score for testing data\n",
    "\n",
    "lr.score(X_test, y_test)"
   ]
  },
  {
   "cell_type": "code",
   "execution_count": 58,
   "metadata": {},
   "outputs": [],
   "source": [
    "# Getting y prediction values\n",
    "\n",
    "y_preds = lr.predict(X)"
   ]
  },
  {
   "cell_type": "code",
   "execution_count": 59,
   "metadata": {},
   "outputs": [
    {
     "data": {
      "text/plain": [
       "37437.58952933915"
      ]
     },
     "execution_count": 59,
     "metadata": {},
     "output_type": "execute_result"
    }
   ],
   "source": [
    "# Calculating RMSE\n",
    "\n",
    "RMSE = np.sqrt(metrics.mean_squared_error(y, y_preds))\n",
    "\n",
    "RMSE"
   ]
  },
  {
   "cell_type": "markdown",
   "metadata": {},
   "source": [
    "This will be my baseline RMSE, and I'll hope to improve on that with feature engineering in my Making Submissions notebook."
   ]
  }
 ],
 "metadata": {
  "kernelspec": {
   "display_name": "Python 3",
   "language": "python",
   "name": "python3"
  },
  "language_info": {
   "codemirror_mode": {
    "name": "ipython",
    "version": 3
   },
   "file_extension": ".py",
   "mimetype": "text/x-python",
   "name": "python",
   "nbconvert_exporter": "python",
   "pygments_lexer": "ipython3",
   "version": "3.8.3"
  }
 },
 "nbformat": 4,
 "nbformat_minor": 4
}
