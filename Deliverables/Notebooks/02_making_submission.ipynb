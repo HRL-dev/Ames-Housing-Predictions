{
 "cells": [
  {
   "cell_type": "code",
   "execution_count": 121,
   "metadata": {},
   "outputs": [],
   "source": [
    "# Importing\n",
    "\n",
    "import pandas as pd\n",
    "import numpy as np\n",
    "import matplotlib.pyplot as plt\n",
    "import seaborn as sns\n",
    "\n",
    "from sklearn.linear_model import LinearRegression\n",
    "from sklearn import metrics\n",
    "from sklearn.model_selection import train_test_split, cross_val_score\n",
    "from sklearn.preprocessing import StandardScaler"
   ]
  },
  {
   "cell_type": "code",
   "execution_count": 122,
   "metadata": {},
   "outputs": [],
   "source": [
    "# Reading in data\n",
    "ames_houses = pd.read_csv('../datasets/train.csv')\n",
    "\n",
    "ames_house = pd.read_csv('../datasets/test.csv')"
   ]
  },
  {
   "cell_type": "code",
   "execution_count": 123,
   "metadata": {},
   "outputs": [],
   "source": [
    "ames_houses = ames_houses[ames_houses['Gr Liv Area'] < 5000]\n",
    "\n",
    "ames_house = ames_house[ames_house['Gr Liv Area'] < 5000]"
   ]
  },
  {
   "cell_type": "code",
   "execution_count": 124,
   "metadata": {},
   "outputs": [],
   "source": [
    "features = ['Garage Cars',\n",
    "            'Total Bsmt SF',\n",
    "            '1st Flr SF',\n",
    "            'Lot Area',\n",
    "            'Lot Config',\n",
    "            'Overall Qual',\n",
    "            'Exter Qual',\n",
    "            'Exter Cond', \n",
    "            'Central Air',\n",
    "            'Gr Liv Area',\n",
    "            'Full Bath',\n",
    "            'Functional',\n",
    "           'Fireplaces',\n",
    "           'Neighborhood',\n",
    "            'Year Built',\n",
    "            'Year Remod/Add',\n",
    "            'Mas Vnr Area',\n",
    "            'TotRms AbvGrd',\n",
    "           'Garage Area']\n",
    "\n",
    "ames_train = ames_houses[features].copy()\n",
    "\n",
    "ames_test = ames_house[features].copy()"
   ]
  },
  {
   "cell_type": "code",
   "execution_count": 125,
   "metadata": {},
   "outputs": [],
   "source": [
    "ames_train['Garage Area'] = ames_train['Garage Area'].fillna(0)\n",
    "\n",
    "ames_test['Garage Area'] = ames_test['Garage Area'].fillna(0)"
   ]
  },
  {
   "cell_type": "code",
   "execution_count": 126,
   "metadata": {},
   "outputs": [],
   "source": [
    "ames_train['Garage Cars'] = ames_train['Garage Cars'].fillna(0)\n",
    "\n",
    "ames_test['Garage Cars'] = ames_test['Garage Cars'].fillna(0)"
   ]
  },
  {
   "cell_type": "code",
   "execution_count": 127,
   "metadata": {},
   "outputs": [],
   "source": [
    "ames_train['Total Bsmt SF'] = ames_train['Total Bsmt SF'].fillna(0)\n",
    "\n",
    "ames_test['Total Bsmt SF'] = ames_test['Total Bsmt SF'].fillna(0)"
   ]
  },
  {
   "cell_type": "code",
   "execution_count": 128,
   "metadata": {},
   "outputs": [],
   "source": [
    "ames_train['Mas Vnr Area'] = ames_train['Mas Vnr Area'].fillna(0)\n",
    "\n",
    "ames_test['Mas Vnr Area'] = ames_test['Mas Vnr Area'].fillna(0)"
   ]
  },
  {
   "cell_type": "code",
   "execution_count": 129,
   "metadata": {},
   "outputs": [],
   "source": [
    "# Feature engineering:\n",
    "\n",
    "ames_train['garage_space'] = ames_train['Garage Cars'] * ames_train['Garage Area']\n",
    "\n",
    "ames_test['garage_space'] = ames_test['Garage Cars'] * ames_test['Garage Area']"
   ]
  },
  {
   "cell_type": "code",
   "execution_count": 130,
   "metadata": {},
   "outputs": [],
   "source": [
    "# More feature engineering:\n",
    "\n",
    "ames_train['lower_sq_ftg'] = ames_train['Total Bsmt SF'] * ames_train['1st Flr SF']\n",
    "\n",
    "ames_test['lower_sq_ftg'] = ames_test['Total Bsmt SF'] * ames_test['1st Flr SF']"
   ]
  },
  {
   "cell_type": "code",
   "execution_count": 131,
   "metadata": {},
   "outputs": [],
   "source": [
    "# More feature engineering:\n",
    "\n",
    "ames_train['tot_sq_ftg'] = ames_train['Gr Liv Area'] * ames_train['Total Bsmt SF']\n",
    "\n",
    "ames_test['tot_sq_ftg'] = ames_test['Gr Liv Area'] * ames_test['Total Bsmt SF']"
   ]
  },
  {
   "cell_type": "code",
   "execution_count": 132,
   "metadata": {},
   "outputs": [],
   "source": [
    "ames_train['abv_gr_sq_ftg'] = ames_train['Gr Liv Area'] * ames_train['1st Flr SF']\n",
    "\n",
    "ames_test['abv_gr_sq_ftg'] = ames_test['Gr Liv Area'] * ames_test['1st Flr SF']"
   ]
  },
  {
   "cell_type": "code",
   "execution_count": 133,
   "metadata": {},
   "outputs": [],
   "source": [
    "ames_train['overall_living'] = ames_train['Gr Liv Area'] * ames_train['Overall Qual']\n",
    "\n",
    "ames_test['overall_living'] = ames_test['Gr Liv Area'] * ames_test['Overall Qual']"
   ]
  },
  {
   "cell_type": "code",
   "execution_count": 134,
   "metadata": {},
   "outputs": [],
   "source": [
    "ames_train['years'] = ames_train['Year Built'] * ames_train['Year Remod/Add']\n",
    "\n",
    "ames_test['years'] = ames_test['Year Built'] * ames_test['Year Remod/Add']"
   ]
  },
  {
   "cell_type": "code",
   "execution_count": 135,
   "metadata": {},
   "outputs": [],
   "source": [
    "# Combining neighborhoods into umbrella columns:\n",
    "\n",
    "ames_train['Neighborhood'] = ames_train['Neighborhood'].map({'NAmes':'NAmes',\n",
    "                                                 'CollgCr':'CollgCr',\n",
    "                                                 'OldTown':'OldTown',\n",
    "                                                 'Edwards':'Edwards',\n",
    "                                                 'Somerst':'Somerst',\n",
    "                                                 'NridgHt':'NridgHt',\n",
    "                                                 'Gilbert':'Gilbert',\n",
    "                                                 'Sawyer':'Sawyer',\n",
    "                                                 'SawyerW':'SawyerW',\n",
    "                                                 'Mitchel':'Mitchel',\n",
    "                                                 'BrkSide':'BrkSide',\n",
    "                                                 'Crawfor':'Crawfor',\n",
    "                                                 'IDOTRR':'IDOTRR',\n",
    "                                                 'Timber':'Timber',\n",
    "                                                 'NoRidge':'NoRidge',\n",
    "                                                 'StoneBr':'StoneBr',\n",
    "                                                 'SWISU':'SWISU',\n",
    "                                                 'ClearCr':'ClearCr',\n",
    "                                                 'MeadowV':'MeadowV',\n",
    "                                                 'Blmngtn':'Blmngtn',\n",
    "                                                 'BrDale':'BrDale',\n",
    "                                                 'Veenker':'Veenker',\n",
    "                                                 'NPkVill':'NPkVill',\n",
    "                                                 'Blueste':'Crawfor',\n",
    "                                                 'Greens':'Somerst',\n",
    "                                                 'GrnHill':'Timber',\n",
    "                                                 'Landmrk':'Somerst',\n",
    "                                                 'NWAmes' : 'NWAmes'           \n",
    "                                                })\n",
    "\n",
    "ames_test['Neighborhood'] = ames_test['Neighborhood'].map({'NAmes':'NAmes',\n",
    "                                                 'CollgCr':'CollgCr',\n",
    "                                                 'OldTown':'OldTown',\n",
    "                                                 'Edwards':'Edwards',\n",
    "                                                 'Somerst':'Somerst',\n",
    "                                                 'NridgHt':'NridgHt',\n",
    "                                                 'Gilbert':'Gilbert',\n",
    "                                                 'Sawyer':'Sawyer',\n",
    "                                                 'SawyerW':'SawyerW',\n",
    "                                                 'Mitchel':'Mitchel',\n",
    "                                                 'BrkSide':'BrkSide',\n",
    "                                                 'Crawfor':'Crawfor',\n",
    "                                                 'IDOTRR':'IDOTRR',\n",
    "                                                 'Timber':'Timber',\n",
    "                                                 'NoRidge':'NoRidge',\n",
    "                                                 'StoneBr':'StoneBr',\n",
    "                                                 'SWISU':'SWISU',\n",
    "                                                 'ClearCr':'ClearCr',\n",
    "                                                 'MeadowV':'MeadowV',\n",
    "                                                 'Blmngtn':'Blmngtn',\n",
    "                                                 'BrDale':'BrDale',\n",
    "                                                 'Veenker':'Veenker',\n",
    "                                                 'NPkVill':'NPkVill',\n",
    "                                                 'Blueste':'Crawfor',\n",
    "                                                 'Greens':'Somerst',\n",
    "                                                 'GrnHill':'Timber',\n",
    "                                                 'Landmrk':'Somerst',\n",
    "                                                 'NWAmes' : 'NWAmes'           \n",
    "                                                })"
   ]
  },
  {
   "cell_type": "code",
   "execution_count": 136,
   "metadata": {},
   "outputs": [
    {
     "data": {
      "text/plain": [
       "Garage Cars       0\n",
       "Total Bsmt SF     0\n",
       "1st Flr SF        0\n",
       "Lot Area          0\n",
       "Lot Config        0\n",
       "Overall Qual      0\n",
       "Exter Qual        0\n",
       "Exter Cond        0\n",
       "Central Air       0\n",
       "Gr Liv Area       0\n",
       "Full Bath         0\n",
       "Functional        0\n",
       "Fireplaces        0\n",
       "Neighborhood      0\n",
       "Year Built        0\n",
       "Year Remod/Add    0\n",
       "Mas Vnr Area      0\n",
       "TotRms AbvGrd     0\n",
       "Garage Area       0\n",
       "garage_space      0\n",
       "lower_sq_ftg      0\n",
       "tot_sq_ftg        0\n",
       "abv_gr_sq_ftg     0\n",
       "overall_living    0\n",
       "years             0\n",
       "dtype: int64"
      ]
     },
     "execution_count": 136,
     "metadata": {},
     "output_type": "execute_result"
    }
   ],
   "source": [
    "ames_train.isnull().sum()"
   ]
  },
  {
   "cell_type": "code",
   "execution_count": 137,
   "metadata": {},
   "outputs": [
    {
     "data": {
      "text/plain": [
       "Garage Cars       0\n",
       "Total Bsmt SF     0\n",
       "1st Flr SF        0\n",
       "Lot Area          0\n",
       "Lot Config        0\n",
       "Overall Qual      0\n",
       "Exter Qual        0\n",
       "Exter Cond        0\n",
       "Central Air       0\n",
       "Gr Liv Area       0\n",
       "Full Bath         0\n",
       "Functional        0\n",
       "Fireplaces        0\n",
       "Neighborhood      0\n",
       "Year Built        0\n",
       "Year Remod/Add    0\n",
       "Mas Vnr Area      0\n",
       "TotRms AbvGrd     0\n",
       "Garage Area       0\n",
       "garage_space      0\n",
       "lower_sq_ftg      0\n",
       "tot_sq_ftg        0\n",
       "abv_gr_sq_ftg     0\n",
       "overall_living    0\n",
       "years             0\n",
       "dtype: int64"
      ]
     },
     "execution_count": 137,
     "metadata": {},
     "output_type": "execute_result"
    }
   ],
   "source": [
    "ames_test.isnull().sum()"
   ]
  },
  {
   "cell_type": "code",
   "execution_count": 138,
   "metadata": {},
   "outputs": [],
   "source": [
    "y = ames_houses['SalePrice']"
   ]
  },
  {
   "cell_type": "code",
   "execution_count": 139,
   "metadata": {},
   "outputs": [],
   "source": [
    "X_train = pd.get_dummies(data=ames_train, columns=['Lot Config', 'Exter Qual',\n",
    "                                                  'Exter Cond', 'Central Air',\n",
    "                                                  'Functional', 'Neighborhood'], drop_first=True)\n",
    "X_test = pd.get_dummies(data=ames_test, columns=['Lot Config', 'Exter Qual',\n",
    "                                                  'Exter Cond', 'Central Air',\n",
    "                                                  'Functional', 'Neighborhood'], drop_first=True)"
   ]
  },
  {
   "cell_type": "code",
   "execution_count": 140,
   "metadata": {},
   "outputs": [
    {
     "data": {
      "text/plain": [
       "(2049, 61)"
      ]
     },
     "execution_count": 140,
     "metadata": {},
     "output_type": "execute_result"
    }
   ],
   "source": [
    "X_train.shape"
   ]
  },
  {
   "cell_type": "code",
   "execution_count": 141,
   "metadata": {},
   "outputs": [
    {
     "data": {
      "text/plain": [
       "(878, 59)"
      ]
     },
     "execution_count": 141,
     "metadata": {},
     "output_type": "execute_result"
    }
   ],
   "source": [
    "X_test.shape"
   ]
  },
  {
   "cell_type": "code",
   "execution_count": 83,
   "metadata": {},
   "outputs": [
    {
     "name": "stdout",
     "output_type": "stream",
     "text": [
      "Functional_Sal\n",
      "Functional_Sev\n"
     ]
    }
   ],
   "source": [
    "for column in X_train.columns:\n",
    "    if column not in X_test.columns:\n",
    "        print(column)"
   ]
  },
  {
   "cell_type": "code",
   "execution_count": 84,
   "metadata": {},
   "outputs": [],
   "source": [
    "for column in X_test.columns:\n",
    "    if column not in X_train.columns:\n",
    "        print(column)"
   ]
  },
  {
   "cell_type": "code",
   "execution_count": 85,
   "metadata": {},
   "outputs": [],
   "source": [
    "# For submission 2, dropped columns from X_train that were not in X_test\n",
    "\n",
    "X_train = X_train.drop(columns=['Functional_Sal', 'Functional_Sev'])"
   ]
  },
  {
   "cell_type": "code",
   "execution_count": 110,
   "metadata": {},
   "outputs": [],
   "source": [
    "# Train-test splitting for model usage:\n",
    "\n",
    "X_train_1, X_test_1, y_train, y_test = train_test_split(X_train, y, random_state = 142)"
   ]
  },
  {
   "cell_type": "code",
   "execution_count": 111,
   "metadata": {},
   "outputs": [
    {
     "data": {
      "text/plain": [
       "LinearRegression()"
      ]
     },
     "execution_count": 111,
     "metadata": {},
     "output_type": "execute_result"
    }
   ],
   "source": [
    "# Instantiating and fitting model:\n",
    "\n",
    "lr_1 = LinearRegression()\n",
    "lr_1.fit(X_train_1, y_train)"
   ]
  },
  {
   "cell_type": "code",
   "execution_count": 112,
   "metadata": {},
   "outputs": [
    {
     "data": {
      "text/plain": [
       "0.8954568217841962"
      ]
     },
     "execution_count": 112,
     "metadata": {},
     "output_type": "execute_result"
    }
   ],
   "source": [
    "cross_val_score(lr_1, X_train, y).mean()"
   ]
  },
  {
   "cell_type": "code",
   "execution_count": 113,
   "metadata": {},
   "outputs": [],
   "source": [
    "y_train_log = y_train.map(np.log)"
   ]
  },
  {
   "cell_type": "code",
   "execution_count": 114,
   "metadata": {},
   "outputs": [
    {
     "data": {
      "text/plain": [
       "0.9053398894608136"
      ]
     },
     "execution_count": 114,
     "metadata": {},
     "output_type": "execute_result"
    }
   ],
   "source": [
    "lr_1.score(X_train_1, y_train)"
   ]
  },
  {
   "cell_type": "code",
   "execution_count": 115,
   "metadata": {},
   "outputs": [
    {
     "data": {
      "text/plain": [
       "0.9019667720383032"
      ]
     },
     "execution_count": 115,
     "metadata": {},
     "output_type": "execute_result"
    }
   ],
   "source": [
    "lr_1.score(X_test_1, y_test)"
   ]
  },
  {
   "cell_type": "code",
   "execution_count": 116,
   "metadata": {},
   "outputs": [
    {
     "data": {
      "text/plain": [
       "LinearRegression()"
      ]
     },
     "execution_count": 116,
     "metadata": {},
     "output_type": "execute_result"
    }
   ],
   "source": [
    "lr_2 = LinearRegression()\n",
    "lr_2.fit(X_train_1, y_train_log)"
   ]
  },
  {
   "cell_type": "code",
   "execution_count": 117,
   "metadata": {},
   "outputs": [
    {
     "data": {
      "text/plain": [
       "0.882876658208136"
      ]
     },
     "execution_count": 117,
     "metadata": {},
     "output_type": "execute_result"
    }
   ],
   "source": [
    "lr_2.score(X_train_1, y_train_log)"
   ]
  },
  {
   "cell_type": "code",
   "execution_count": 118,
   "metadata": {},
   "outputs": [
    {
     "data": {
      "text/plain": [
       "0.8954568217841962"
      ]
     },
     "execution_count": 118,
     "metadata": {},
     "output_type": "execute_result"
    }
   ],
   "source": [
    "cross_val_score(lr_2, X_train, y).mean()"
   ]
  },
  {
   "cell_type": "code",
   "execution_count": 119,
   "metadata": {},
   "outputs": [],
   "source": [
    "y_train_preds = lr_1.predict(X_train)"
   ]
  },
  {
   "cell_type": "code",
   "execution_count": 120,
   "metadata": {},
   "outputs": [
    {
     "ename": "ValueError",
     "evalue": "matmul: Input operand 1 has a mismatch in its core dimension 0, with gufunc signature (n?,k),(k,m?)->(n?,m?) (size 39 is different from 59)",
     "output_type": "error",
     "traceback": [
      "\u001b[0;31m---------------------------------------------------------------------------\u001b[0m",
      "\u001b[0;31mValueError\u001b[0m                                Traceback (most recent call last)",
      "\u001b[0;32m<ipython-input-120-5d94a494c4be>\u001b[0m in \u001b[0;36m<module>\u001b[0;34m\u001b[0m\n\u001b[0;32m----> 1\u001b[0;31m \u001b[0my_preds_2\u001b[0m \u001b[0;34m=\u001b[0m \u001b[0mlr_1\u001b[0m\u001b[0;34m.\u001b[0m\u001b[0mpredict\u001b[0m\u001b[0;34m(\u001b[0m\u001b[0mX_test\u001b[0m\u001b[0;34m)\u001b[0m\u001b[0;34m\u001b[0m\u001b[0;34m\u001b[0m\u001b[0m\n\u001b[0m",
      "\u001b[0;32m~/opt/anaconda3/lib/python3.8/site-packages/sklearn/linear_model/_base.py\u001b[0m in \u001b[0;36mpredict\u001b[0;34m(self, X)\u001b[0m\n\u001b[1;32m    234\u001b[0m             \u001b[0mReturns\u001b[0m \u001b[0mpredicted\u001b[0m \u001b[0mvalues\u001b[0m\u001b[0;34m.\u001b[0m\u001b[0;34m\u001b[0m\u001b[0;34m\u001b[0m\u001b[0m\n\u001b[1;32m    235\u001b[0m         \"\"\"\n\u001b[0;32m--> 236\u001b[0;31m         \u001b[0;32mreturn\u001b[0m \u001b[0mself\u001b[0m\u001b[0;34m.\u001b[0m\u001b[0m_decision_function\u001b[0m\u001b[0;34m(\u001b[0m\u001b[0mX\u001b[0m\u001b[0;34m)\u001b[0m\u001b[0;34m\u001b[0m\u001b[0;34m\u001b[0m\u001b[0m\n\u001b[0m\u001b[1;32m    237\u001b[0m \u001b[0;34m\u001b[0m\u001b[0m\n\u001b[1;32m    238\u001b[0m     \u001b[0m_preprocess_data\u001b[0m \u001b[0;34m=\u001b[0m \u001b[0mstaticmethod\u001b[0m\u001b[0;34m(\u001b[0m\u001b[0m_preprocess_data\u001b[0m\u001b[0;34m)\u001b[0m\u001b[0;34m\u001b[0m\u001b[0;34m\u001b[0m\u001b[0m\n",
      "\u001b[0;32m~/opt/anaconda3/lib/python3.8/site-packages/sklearn/linear_model/_base.py\u001b[0m in \u001b[0;36m_decision_function\u001b[0;34m(self, X)\u001b[0m\n\u001b[1;32m    217\u001b[0m \u001b[0;34m\u001b[0m\u001b[0m\n\u001b[1;32m    218\u001b[0m         \u001b[0mX\u001b[0m \u001b[0;34m=\u001b[0m \u001b[0mcheck_array\u001b[0m\u001b[0;34m(\u001b[0m\u001b[0mX\u001b[0m\u001b[0;34m,\u001b[0m \u001b[0maccept_sparse\u001b[0m\u001b[0;34m=\u001b[0m\u001b[0;34m[\u001b[0m\u001b[0;34m'csr'\u001b[0m\u001b[0;34m,\u001b[0m \u001b[0;34m'csc'\u001b[0m\u001b[0;34m,\u001b[0m \u001b[0;34m'coo'\u001b[0m\u001b[0;34m]\u001b[0m\u001b[0;34m)\u001b[0m\u001b[0;34m\u001b[0m\u001b[0;34m\u001b[0m\u001b[0m\n\u001b[0;32m--> 219\u001b[0;31m         return safe_sparse_dot(X, self.coef_.T,\n\u001b[0m\u001b[1;32m    220\u001b[0m                                dense_output=True) + self.intercept_\n\u001b[1;32m    221\u001b[0m \u001b[0;34m\u001b[0m\u001b[0m\n",
      "\u001b[0;32m~/opt/anaconda3/lib/python3.8/site-packages/sklearn/utils/validation.py\u001b[0m in \u001b[0;36minner_f\u001b[0;34m(*args, **kwargs)\u001b[0m\n\u001b[1;32m     71\u001b[0m                           FutureWarning)\n\u001b[1;32m     72\u001b[0m         \u001b[0mkwargs\u001b[0m\u001b[0;34m.\u001b[0m\u001b[0mupdate\u001b[0m\u001b[0;34m(\u001b[0m\u001b[0;34m{\u001b[0m\u001b[0mk\u001b[0m\u001b[0;34m:\u001b[0m \u001b[0marg\u001b[0m \u001b[0;32mfor\u001b[0m \u001b[0mk\u001b[0m\u001b[0;34m,\u001b[0m \u001b[0marg\u001b[0m \u001b[0;32min\u001b[0m \u001b[0mzip\u001b[0m\u001b[0;34m(\u001b[0m\u001b[0msig\u001b[0m\u001b[0;34m.\u001b[0m\u001b[0mparameters\u001b[0m\u001b[0;34m,\u001b[0m \u001b[0margs\u001b[0m\u001b[0;34m)\u001b[0m\u001b[0;34m}\u001b[0m\u001b[0;34m)\u001b[0m\u001b[0;34m\u001b[0m\u001b[0;34m\u001b[0m\u001b[0m\n\u001b[0;32m---> 73\u001b[0;31m         \u001b[0;32mreturn\u001b[0m \u001b[0mf\u001b[0m\u001b[0;34m(\u001b[0m\u001b[0;34m**\u001b[0m\u001b[0mkwargs\u001b[0m\u001b[0;34m)\u001b[0m\u001b[0;34m\u001b[0m\u001b[0;34m\u001b[0m\u001b[0m\n\u001b[0m\u001b[1;32m     74\u001b[0m     \u001b[0;32mreturn\u001b[0m \u001b[0minner_f\u001b[0m\u001b[0;34m\u001b[0m\u001b[0;34m\u001b[0m\u001b[0m\n\u001b[1;32m     75\u001b[0m \u001b[0;34m\u001b[0m\u001b[0m\n",
      "\u001b[0;32m~/opt/anaconda3/lib/python3.8/site-packages/sklearn/utils/extmath.py\u001b[0m in \u001b[0;36msafe_sparse_dot\u001b[0;34m(a, b, dense_output)\u001b[0m\n\u001b[1;32m    151\u001b[0m             \u001b[0mret\u001b[0m \u001b[0;34m=\u001b[0m \u001b[0mnp\u001b[0m\u001b[0;34m.\u001b[0m\u001b[0mdot\u001b[0m\u001b[0;34m(\u001b[0m\u001b[0ma\u001b[0m\u001b[0;34m,\u001b[0m \u001b[0mb\u001b[0m\u001b[0;34m)\u001b[0m\u001b[0;34m\u001b[0m\u001b[0;34m\u001b[0m\u001b[0m\n\u001b[1;32m    152\u001b[0m     \u001b[0;32melse\u001b[0m\u001b[0;34m:\u001b[0m\u001b[0;34m\u001b[0m\u001b[0;34m\u001b[0m\u001b[0m\n\u001b[0;32m--> 153\u001b[0;31m         \u001b[0mret\u001b[0m \u001b[0;34m=\u001b[0m \u001b[0ma\u001b[0m \u001b[0;34m@\u001b[0m \u001b[0mb\u001b[0m\u001b[0;34m\u001b[0m\u001b[0;34m\u001b[0m\u001b[0m\n\u001b[0m\u001b[1;32m    154\u001b[0m \u001b[0;34m\u001b[0m\u001b[0m\n\u001b[1;32m    155\u001b[0m     if (sparse.issparse(a) and sparse.issparse(b)\n",
      "\u001b[0;31mValueError\u001b[0m: matmul: Input operand 1 has a mismatch in its core dimension 0, with gufunc signature (n?,k),(k,m?)->(n?,m?) (size 39 is different from 59)"
     ]
    }
   ],
   "source": [
    "y_preds_2 = lr_1.predict(X_test)"
   ]
  },
  {
   "cell_type": "code",
   "execution_count": 97,
   "metadata": {},
   "outputs": [],
   "source": [
    "y_preds_log = lr_2.predict(X_test)"
   ]
  },
  {
   "cell_type": "code",
   "execution_count": 98,
   "metadata": {},
   "outputs": [],
   "source": [
    "y_preds_log = np.exp(y_preds_log)"
   ]
  },
  {
   "cell_type": "code",
   "execution_count": 99,
   "metadata": {},
   "outputs": [],
   "source": [
    "ames_test['SalePrice'] = y_preds_log"
   ]
  },
  {
   "cell_type": "code",
   "execution_count": 100,
   "metadata": {},
   "outputs": [
    {
     "data": {
      "text/plain": [
       "0      107289.549316\n",
       "1      189406.036224\n",
       "2      190340.714316\n",
       "3      119677.541044\n",
       "4      175615.017147\n",
       "           ...      \n",
       "873    181641.654913\n",
       "874    211159.970293\n",
       "875    136748.867084\n",
       "876    110710.348743\n",
       "877    130548.018225\n",
       "Name: SalePrice, Length: 878, dtype: float64"
      ]
     },
     "execution_count": 100,
     "metadata": {},
     "output_type": "execute_result"
    }
   ],
   "source": [
    "ames_test['SalePrice']"
   ]
  },
  {
   "cell_type": "code",
   "execution_count": 101,
   "metadata": {},
   "outputs": [],
   "source": [
    "ames_test['ID'] = ames_house['Id']"
   ]
  },
  {
   "cell_type": "code",
   "execution_count": 102,
   "metadata": {},
   "outputs": [
    {
     "data": {
      "text/plain": [
       "23989.358181101863"
      ]
     },
     "execution_count": 102,
     "metadata": {},
     "output_type": "execute_result"
    }
   ],
   "source": [
    "RMSE = np.sqrt(metrics.mean_squared_error(y, y_train_preds))\n",
    "\n",
    "RMSE"
   ]
  },
  {
   "cell_type": "code",
   "execution_count": null,
   "metadata": {},
   "outputs": [],
   "source": [
    "submission_9 = ames_test[['ID']].copy()\n",
    "submission_9['SalePrice'] = ames_test[['SalePrice']].copy()"
   ]
  },
  {
   "cell_type": "code",
   "execution_count": null,
   "metadata": {},
   "outputs": [],
   "source": [
    "submission_9.head()"
   ]
  },
  {
   "cell_type": "code",
   "execution_count": null,
   "metadata": {},
   "outputs": [],
   "source": [
    "#This is where I would save my submission to a csv and submit it\n",
    "\n",
    "# submission_9.to_csv('../datasets/submission_9.csv', index=False)"
   ]
  },
  {
   "cell_type": "code",
   "execution_count": null,
   "metadata": {},
   "outputs": [],
   "source": []
  }
 ],
 "metadata": {
  "kernelspec": {
   "display_name": "Python 3",
   "language": "python",
   "name": "python3"
  },
  "language_info": {
   "codemirror_mode": {
    "name": "ipython",
    "version": 3
   },
   "file_extension": ".py",
   "mimetype": "text/x-python",
   "name": "python",
   "nbconvert_exporter": "python",
   "pygments_lexer": "ipython3",
   "version": "3.8.3"
  }
 },
 "nbformat": 4,
 "nbformat_minor": 4
}
